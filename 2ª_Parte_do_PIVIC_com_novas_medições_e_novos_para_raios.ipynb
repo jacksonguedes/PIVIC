{
  "nbformat": 4,
  "nbformat_minor": 0,
  "metadata": {
    "colab": {
      "provenance": [],
      "authorship_tag": "ABX9TyN/msnYWXWePW+LTLD1Fe2u",
      "include_colab_link": true
    },
    "kernelspec": {
      "name": "python3",
      "display_name": "Python 3"
    },
    "language_info": {
      "name": "python"
    }
  },
  "cells": [
    {
      "cell_type": "markdown",
      "metadata": {
        "id": "view-in-github",
        "colab_type": "text"
      },
      "source": [
        "<a href=\"https://colab.research.google.com/github/jacksonguedes/PIVIC/blob/main/2%C2%AA_Parte_do_PIVIC_com_novas_medi%C3%A7%C3%B5es_e_novos_para_raios.ipynb\" target=\"_parent\"><img src=\"https://colab.research.google.com/assets/colab-badge.svg\" alt=\"Open In Colab\"/></a>"
      ]
    },
    {
      "cell_type": "code",
      "execution_count": 129,
      "metadata": {
        "id": "B0ha5wGX2sTe"
      },
      "outputs": [],
      "source": [
        "import pandas as pd\n",
        "import seaborn as srn\n",
        "import statistics as sts\n",
        "import matplotlib.pyplot as plt\n",
        "import numpy as np"
      ]
    },
    {
      "cell_type": "markdown",
      "source": [
        "# Medições depois de 2h"
      ],
      "metadata": {
        "id": "AXbLL8SBAYnE"
      }
    },
    {
      "cell_type": "code",
      "source": [
        "dados_canal_H1_Osc_1 = pd.read_csv(\"F0105CH1.CSV\",  sep=\",\") # Tensão aplicada aos Para-Raios  Osciloscópio 1\n",
        "dados_canal_H2_Osc_1 = pd.read_csv(\"F0105CH2.CSV\",  sep=\",\") # PR - A  Osciloscópio 1\n",
        "dados_canal_H3_Osc_1 = pd.read_csv(\"F0105CH3.CSV\",  sep=\",\") # PR - B  Osciloscópio 1\n",
        "dados_canal_H4_Osc_1 = pd.read_csv(\"F0105CH4.CSV\",  sep=\",\") # PR - C  Osciloscópio 1\n",
        "dados_canal_H2_Osc_2 = pd.read_csv(\"F0045CH2.CSV\",  sep=\",\") # PR - D  Osciloscópio 2\n",
        "dados_canal_H3_Osc_2 = pd.read_csv(\"F0045CH3.CSV\",  sep=\",\") # PR - E  Osciloscópio 2\n",
        "\n",
        "# Fazendo uma cópia dos dados\n",
        "novo_CH1_Osc_1 = dados_canal_H1_Osc_1.copy()\n",
        "novo_CH2_Osc_1 = dados_canal_H2_Osc_1.copy()\n",
        "novo_CH3_Osc_1 = dados_canal_H3_Osc_1.copy()\n",
        "novo_CH4_Osc_1 = dados_canal_H4_Osc_1.copy()\n",
        "novo_CH2_Osc_2 = dados_canal_H2_Osc_2.copy()\n",
        "novo_CH3_Osc_2 = dados_canal_H3_Osc_2.copy()"
      ],
      "metadata": {
        "id": "IpXIPK2057gq"
      },
      "execution_count": 130,
      "outputs": []
    },
    {
      "cell_type": "code",
      "source": [
        "novo_CH1_Osc_1.columns = [\"A\", \"B\", \"C\", \"Tempo1\", \"Amplitude1\", \"F\"]\n",
        "novo_CH2_Osc_1.columns = [\"A\", \"B\", \"C\", \"Tempo2\", \"Amplitude2\", \"F\"]\n",
        "novo_CH3_Osc_1.columns = [\"A\", \"B\", \"C\", \"Tempo3\", \"Amplitude3\", \"F\"]\n",
        "novo_CH4_Osc_1.columns = [\"A\", \"B\", \"C\", \"Tempo4\", \"Amplitude4\", \"F\"]\n",
        "novo_CH2_Osc_2.columns = [\"A\", \"B\", \"C\", \"Tempo5\", \"Amplitude5\", \"F\"]\n",
        "novo_CH3_Osc_2.columns =  [\"A\", \"B\", \"C\", \"Tempo6\", \"Amplitude6\", \"F\"]"
      ],
      "metadata": {
        "id": "WDt713Yv-CYL"
      },
      "execution_count": 131,
      "outputs": []
    },
    {
      "cell_type": "code",
      "source": [
        "# Dados para CH1\n",
        "tempo1 = novo_CH1_Osc_1['Tempo1']\n",
        "amplitude1 = novo_CH1_Osc_1['Amplitude1']\n",
        "\n",
        "# Dados para CH2\n",
        "tempo2 = novo_CH2_Osc_1['Tempo2']\n",
        "amplitude2 = novo_CH2_Osc_1['Amplitude2']\n",
        "\n",
        "# Dados para CH3\n",
        "tempo3 = novo_CH3_Osc_1['Tempo3']\n",
        "amplitude3 = novo_CH3_Osc_1['Amplitude3']\n",
        "\n",
        "# Dados para CH4\n",
        "tempo4 = novo_CH4_Osc_1['Tempo4']\n",
        "amplitude4 = novo_CH4_Osc_1['Amplitude4']\n",
        "\n",
        "# Dados para CH2\n",
        "tempo5 = novo_CH2_Osc_2['Tempo5']\n",
        "amplitude5 = novo_CH2_Osc_2['Amplitude5']\n",
        "\n",
        "# Dados para CH3\n",
        "tempo6 = novo_CH3_Osc_2['Tempo6']\n",
        "amplitude6 = novo_CH3_Osc_2['Amplitude6']\n",
        "\n",
        "# Criar subplots\n",
        "fig, axs = plt.subplots(3, 2, figsize=(8, 6))\n",
        "\n",
        "# Plotar CH1\n",
        "axs[0, 0].plot(tempo1, amplitude1, color='black')\n",
        "axs[0, 0].set_xlabel('Tempo [s]')\n",
        "axs[0, 0].set_ylabel('Tensão [V]')\n",
        "axs[0, 0].set_title('Tensão Nominal - Canal H1')\n",
        "axs[0, 0].grid()\n",
        "\n",
        "# Plotar CH2\n",
        "axs[0, 1].plot(tempo2, amplitude2, color='blue')\n",
        "axs[0, 1].set_xlabel('Tempo [s]')\n",
        "axs[0, 1].set_ylabel('Tensão [V]')\n",
        "axs[0, 1].set_title('Tensão do Para-Raios A - Canal H2')\n",
        "axs[0, 1].grid()\n",
        "\n",
        "# Plotar CH3\n",
        "axs[1, 0].plot(tempo3, amplitude3, color='magenta')\n",
        "axs[1, 0].set_xlabel('Tempo [s]')\n",
        "axs[1, 0].set_ylabel('Tensão [V]')\n",
        "axs[1, 0].set_title('Tensão do Fuga Para-Raios B - Canal H3')\n",
        "axs[1, 0].grid()\n",
        "\n",
        "# Plotar CH4\n",
        "axs[1, 1].plot(tempo4, amplitude4, color='green')\n",
        "axs[1, 1].set_xlabel('Tempo [s]')\n",
        "axs[1, 1].set_ylabel('Tensão [V]')\n",
        "axs[1, 1].set_title('Tensão do Fuga Para-Raios C - Canal H4')\n",
        "axs[1, 1].grid()\n",
        "\n",
        "# Plotar CH2 - Osciloscópio 2\n",
        "axs[2, 0].plot(tempo5, amplitude5, color='maroon')\n",
        "axs[2, 0].set_xlabel('Tempo [s]')\n",
        "axs[2, 0].set_ylabel('Tensão [V]')\n",
        "axs[2, 0].set_title('Tensão do Fuga Para-Raios D - Canal H5')\n",
        "axs[2, 0].grid()\n",
        "\n",
        "# Plotar CH3 - Osciloscópio 2\n",
        "axs[2, 1].plot(tempo6, amplitude6, color='purple')\n",
        "axs[2, 1].set_xlabel('Tempo [s]')\n",
        "axs[2, 1].set_ylabel('Tensão [V]')\n",
        "axs[2, 1].set_title('Tensão do Fuga Para-Raios E - Canal H6')\n",
        "axs[2, 1].grid()\n",
        "\n",
        "# Ajustar layout para evitar sobreposição\n",
        "plt.tight_layout()\n",
        "\n",
        "# Mostrar o plot\n",
        "plt.show()\n"
      ],
      "metadata": {
        "id": "xEn7F1FXD0u5",
        "colab": {
          "base_uri": "https://localhost:8080/",
          "height": 607
        },
        "outputId": "17d507c0-5ba6-46bd-972c-01214ff8a533"
      },
      "execution_count": 132,
      "outputs": [
        {
          "output_type": "display_data",
          "data": {
            "text/plain": [
              "<Figure size 800x600 with 6 Axes>"
            ],
            "image/png": "[encoded data removed]"
          },
          "metadata": {}
        }
      ]
    },
    {
      "cell_type": "markdown",
      "source": [
        "# Plotando os Gráficos das Correntes de Fuga de cada Para-raios"
      ],
      "metadata": {
        "id": "GTA9a0sLrJoi"
      }
    },
    {
      "cell_type": "code",
      "source": [
        "# Resistência do resistor shunt em ohms\n",
        "resistencia = 1000  # 1k ohms\n",
        "\n",
        "# Converter os dados de tensão para corrente usando a Lei de Ohm\n",
        "corrente_CH2 = novo_CH2_Osc_1['Amplitude2'] / resistencia\n",
        "corrente_CH3 = novo_CH3_Osc_1['Amplitude3'] / resistencia\n",
        "corrente_CH4 = novo_CH4_Osc_1['Amplitude4'] / resistencia\n",
        "corrente_CH5 = novo_CH2_Osc_2['Amplitude5'] / resistencia\n",
        "corrente_CH6 = novo_CH3_Osc_2['Amplitude6'] / resistencia"
      ],
      "metadata": {
        "id": "kXtjjzTArP7X"
      },
      "execution_count": 133,
      "outputs": []
    },
    {
      "cell_type": "markdown",
      "source": [
        "# Plotando o Espectro de Frequência da Corrente de Fuga de cada Para-raios"
      ],
      "metadata": {
        "id": "NgsTcFrRsPh_"
      }
    },
    {
      "cell_type": "markdown",
      "source": [
        "# Canal H1 - Tensão Nominal"
      ],
      "metadata": {
        "id": "_kIyRy1Htbil"
      }
    },
    {
      "cell_type": "code",
      "source": [
        "# Extrair tempo e amplitude\n",
        "tempo1 = novo_CH1_Osc_1['Tempo1']\n",
        "amplitude1 = novo_CH1_Osc_1['Amplitude1']\n",
        "\n",
        "# Calcular a FFT\n",
        "fft_amplitude_tensao = np.fft.fft(amplitude1)\n",
        "\n",
        "# Ângulos\n",
        "angulo_tensao = np.angle(fft_amplitude_tensao)\n",
        "\n",
        "#Valores absolutos\n",
        "valores_absolutos_tensao = np.abs(fft_amplitude_tensao)\n",
        "\n",
        "# Calcular as frequências correspondentes\n",
        "frequencias_tensao = np.fft.fftfreq(len(tempo1), tempo1[1] - tempo1[0])\n",
        "\n",
        "# Plotar o espectro de frequência\n",
        "plt.plot(frequencias_tensao, valores_absolutos_tensao, color = 'black')\n",
        "plt.title('Espectro de Frequência da Tensão - Canal H1')\n",
        "plt.xlabel('Frequência (Hz)')\n",
        "plt.ylabel('Amplitude das Componentes de Frequência')\n",
        "plt.grid(True)\n",
        "plt.xlim(0, 1000)\n",
        "plt.xticks(np.arange(0, 1001, 100))\n",
        "plt.show()"
      ],
      "metadata": {
        "id": "412BdHt9t9TP",
        "colab": {
          "base_uri": "https://localhost:8080/",
          "height": 473
        },
        "outputId": "757da8e9-1ebd-4672-a9c2-891d1cb4ad3e"
      },
      "execution_count": 134,
      "outputs": [
        {
          "output_type": "display_data",
          "data": {
            "text/plain": [
              "<Figure size 640x480 with 1 Axes>"
            ],
            "image/png": "[encoded data removed]"
          },
          "metadata": {}
        }
      ]
    },
    {
      "cell_type": "code",
      "source": [
        "# Convertendo os ângulos para graus\n",
        "angulo_graus_tensao = np.degrees(angulo_tensao)\n",
        "\n",
        "# Listas para salvar os valores de frequência, módulo e ângulo para TENSÃO.\n",
        "frequencias_salvas_tensao = []\n",
        "modulos_salvos_tensao = []\n",
        "angulos_salvos_tensao = []\n",
        "frequencias_multiplos_60_tensao = []\n",
        "modulos_multiplos_60_tensao = []\n",
        "angulos_multiplos_60_tensao = []\n",
        "\n",
        "# Imprimindo os valores do espectro da TENSÃO\n",
        "print(\"Valores do espectro da tensão\\n\")\n",
        "print(\"Frequência (Hz)\\t\\tMódulo (v)\\t\\t\\tÂngulo (graus)\\n\")\n",
        "for f_tensao, mod_tensao, ang_graus_tensao in zip(frequencias_tensao[frequencias_tensao > 0], valores_absolutos_tensao[frequencias_tensao > 0], angulo_graus_tensao[frequencias_tensao > 0]):\n",
        "\n",
        "  if (f_tensao > 60) and (f_tensao < 1000) and (mod_tensao > 1):\n",
        "    print(f\"{f_tensao:.2f}\\t\\t\\t{mod_tensao:.2f}\\t\\t\\t{ang_graus_tensao:.2f}°\")\n",
        "    frequencias_salvas_tensao.append(f_tensao)\n",
        "    modulos_salvos_tensao.append(mod_tensao)\n",
        "    angulos_salvos_tensao.append(ang_graus_tensao)"
      ],
      "metadata": {
        "id": "gjNVBqjOulmc",
        "colab": {
          "base_uri": "https://localhost:8080/"
        },
        "outputId": "d936183f-fa64-4eed-a2ad-881c3d3533ec"
      },
      "execution_count": 135,
      "outputs": [
        {
          "output_type": "stream",
          "name": "stdout",
          "text": [
            "Valores do espectro da tensão\n",
            "\n",
            "Frequência (Hz)\t\tMódulo (v)\t\t\tÂngulo (graus)\n",
            "\n",
            "60.02\t\t\t472.24\t\t\t97.16°\n",
            "180.07\t\t\t4.59\t\t\t112.96°\n",
            "300.12\t\t\t7.89\t\t\t-74.64°\n",
            "420.17\t\t\t4.06\t\t\t72.73°\n"
          ]
        }
      ]
    },
    {
      "cell_type": "markdown",
      "source": [
        "# Encontrando as frequências de maiores amplitudes"
      ],
      "metadata": {
        "id": "ZAN222qavAyH"
      }
    },
    {
      "cell_type": "code",
      "source": [
        "# Encontrar a frequência com a maior amplitude\n",
        "indice_fundamental_tensao = np.argmax(modulos_salvos_tensao)\n",
        "frequencia_fundamental_tensao = frequencias_salvas_tensao[indice_fundamental_tensao]\n",
        "\n",
        "print(\"Frequência fundamental:\", frequencia_fundamental_tensao)\n",
        "\n",
        "# Listas para armazenar os múltiplos\n",
        "frequencias_multiplos_tensao = []\n",
        "modulos_multiplos_tensao = []\n",
        "angulos_multiplos_tensao = []\n",
        "\n",
        "# Verificar os múltiplos da frequência fundamental\n",
        "for i, frequencia in enumerate(frequencias_salvas_tensao):\n",
        "    if frequencia % frequencia_fundamental_tensao == 0:\n",
        "        frequencias_multiplos_tensao.append(frequencia)\n",
        "        modulos_multiplos_tensao.append(modulos_salvos_tensao[i])\n",
        "        angulos_multiplos_tensao.append(angulos_salvos_tensao[i])\n",
        "\n",
        "# Imprimir os múltiplos encontrados\n",
        "print(\"Múltiplos da frequência fundamental: \", frequencia_fundamental_tensao)\n",
        "print(\"\\n\")\n",
        "print(\"Frequência (Hz)\\t\\tMódulo (v)\\t\\tÂngulo (graus)\\n\")\n",
        "for freq, modulo, angulo in zip(frequencias_multiplos_tensao, modulos_multiplos_tensao, angulos_multiplos_tensao):\n",
        "    print(f\"{freq:.2f}\\t\\t {modulo:.10f}\\t\\t\\t\\t {angulo:.2f}\")"
      ],
      "metadata": {
        "id": "8G1eWyCBvAUo",
        "colab": {
          "base_uri": "https://localhost:8080/"
        },
        "outputId": "7ee793a3-34ea-4718-e91d-5ece74a1dc95"
      },
      "execution_count": 136,
      "outputs": [
        {
          "output_type": "stream",
          "name": "stdout",
          "text": [
            "Frequência fundamental: 60.02400960384398\n",
            "Múltiplos da frequência fundamental:  60.02400960384398\n",
            "\n",
            "\n",
            "Frequência (Hz)\t\tMódulo (v)\t\tÂngulo (graus)\n",
            "\n",
            "60.02\t\t 472.2446463618\t\t\t\t 97.16\n",
            "180.07\t\t 4.5863953339\t\t\t\t 112.96\n",
            "300.12\t\t 7.8884945395\t\t\t\t -74.64\n",
            "420.17\t\t 4.0551279613\t\t\t\t 72.73\n"
          ]
        }
      ]
    },
    {
      "cell_type": "markdown",
      "source": [
        "# Espectro da Corrente de Fuga do Para-Raios A"
      ],
      "metadata": {
        "id": "gTLcrfiEvSPZ"
      }
    },
    {
      "cell_type": "code",
      "source": [
        "tempo2 = novo_CH2_Osc_1['Tempo2']\n",
        "amplitude2 = corrente_CH2\n",
        "\n",
        "# Passo 3: Calcular a FFT\n",
        "fft_amplitude_Corrente_A = np.fft.fft(amplitude2)\n",
        "\n",
        "# Ângulos\n",
        "angulo_Corrente_A = np.angle(fft_amplitude_Corrente_A)\n",
        "\n",
        "#Valores absolutos\n",
        "valores_absolutos_Corrente_A = np.abs(fft_amplitude_Corrente_A)\n",
        "\n",
        "# Passo 4: Calcular as frequências correspondentes\n",
        "frequencias_Corrente_A = np.fft.fftfreq(len(tempo2), tempo2[1] - tempo2[0])\n",
        "\n",
        "# Passo 5: Plotar o espectro de frequência\n",
        "plt.plot(frequencias_Corrente_A, np.abs(fft_amplitude_Corrente_A))\n",
        "plt.title('Espectro de Frequência do Canal H2 - Para-Raio A')\n",
        "plt.xlabel('Frequência (Hz)')\n",
        "plt.ylabel('Amplitude das Componentes de Frequência')\n",
        "plt.grid(True)\n",
        "plt.xlim(0, 1000)\n",
        "plt.xticks(np.arange(0, 1001, 100))\n",
        "plt.show()"
      ],
      "metadata": {
        "id": "wJLjcDpYvXcP",
        "colab": {
          "base_uri": "https://localhost:8080/",
          "height": 473
        },
        "outputId": "0d0ce7ca-74e7-4f74-c357-30eb9b640904"
      },
      "execution_count": 137,
      "outputs": [
        {
          "output_type": "display_data",
          "data": {
            "text/plain": [
              "<Figure size 640x480 with 1 Axes>"
            ],
            "image/png": "[encoded data removed]"
          },
          "metadata": {}
        }
      ]
    },
    {
      "cell_type": "code",
      "source": [
        "# Convertendo os ângulos para graus\n",
        "angulo_graus_Corrente_A = np.degrees(angulo_Corrente_A)\n",
        "\n",
        "# Listas para salvar os valores de frequência, módulo e ângulo para TENSÃO.\n",
        "frequencias_salvas_Corrente_A = []\n",
        "modulos_salvos_Corrente_A = []\n",
        "angulos_salvos_Corrente_A = []\n",
        "frequencias_multiplos_60_Corrente_A = []\n",
        "modulos_multiplos_60_Corrente_A = []\n",
        "angulos_multiplos_60_Corrente_A = []\n",
        "\n",
        "# Imprimindo os valores do espectro da TENSÃO\n",
        "print(\"Valores do espectro da corrente A\\n\")\n",
        "print(\"Frequência (Hz)\\t\\tMódulo (v)\\t\\t\\tÂngulo (graus)\\n\")\n",
        "for f_Corrente_A, mod_Corrente_A, ang_graus_Corrente_A in zip(frequencias_Corrente_A[frequencias_Corrente_A > 0], valores_absolutos_Corrente_A[frequencias_Corrente_A > 0], angulo_graus_Corrente_A[frequencias_Corrente_A > 0]):\n",
        "\n",
        "  if (f_Corrente_A > 60) and (f_Corrente_A < 1000) and (mod_Corrente_A > 2e-3):\n",
        "    print(f\"{f_Corrente_A:.2f}\\t\\t\\t{mod_Corrente_A:.4f}\\t\\t\\t{ang_graus_Corrente_A:.2f}°\")\n",
        "    frequencias_salvas_Corrente_A.append(f_Corrente_A)\n",
        "    modulos_salvos_Corrente_A.append(mod_Corrente_A)\n",
        "    angulos_salvos_Corrente_A.append(ang_graus_Corrente_A)"
      ],
      "metadata": {
        "id": "MK6AfYe_vxig",
        "colab": {
          "base_uri": "https://localhost:8080/"
        },
        "outputId": "6548ed0d-2842-44ef-d5d1-de902782e576"
      },
      "execution_count": 138,
      "outputs": [
        {
          "output_type": "stream",
          "name": "stdout",
          "text": [
            "Valores do espectro da corrente A\n",
            "\n",
            "Frequência (Hz)\t\tMódulo (v)\t\t\tÂngulo (graus)\n",
            "\n",
            "60.02\t\t\t0.5349\t\t\t173.51°\n",
            "180.07\t\t\t0.0270\t\t\t-85.80°\n",
            "300.12\t\t\t0.0455\t\t\t13.12°\n",
            "420.17\t\t\t0.0333\t\t\t162.07°\n",
            "540.22\t\t\t0.0036\t\t\t56.76°\n",
            "660.26\t\t\t0.0115\t\t\t9.20°\n",
            "780.31\t\t\t0.0023\t\t\t65.36°\n"
          ]
        }
      ]
    },
    {
      "cell_type": "code",
      "source": [
        "# Encontrar a frequência com a maior amplitude\n",
        "indice_fundamental_Corrente_A = np.argmax(modulos_salvos_Corrente_A)\n",
        "frequencia_fundamental_Corrente_A = frequencias_salvas_Corrente_A[indice_fundamental_Corrente_A]\n",
        "\n",
        "print(\"Frequência fundamental:\", frequencia_fundamental_Corrente_A)\n",
        "\n",
        "# Listas para armazenar os múltiplos\n",
        "frequencias_multiplos_Corrente_A = []\n",
        "modulos_multiplos_Corrente_A = []\n",
        "angulos_multiplos_Corrente_A = []\n",
        "\n",
        "# Verificar os múltiplos da frequência fundamental\n",
        "for i, frequencia_Corrente_A in enumerate(frequencias_salvas_Corrente_A):\n",
        "    if frequencia_Corrente_A % frequencia_fundamental_Corrente_A == 0:\n",
        "        frequencias_multiplos_Corrente_A.append(frequencia_Corrente_A)\n",
        "        modulos_multiplos_Corrente_A.append(modulos_salvos_Corrente_A[i])\n",
        "        angulos_multiplos_Corrente_A.append(angulos_salvos_Corrente_A[i])\n",
        "\n",
        "# Imprimir os múltiplos encontrados\n",
        "print(\"Múltiplos da frequência fundamental: \", frequencia_fundamental_Corrente_A)\n",
        "print(\"\\n\")\n",
        "print(\"Frequência (Hz)\\t\\tMódulo (v)\\t\\t\\tÂngulo (graus)\\n\")\n",
        "for freq, modulo, angulo in zip(frequencias_multiplos_Corrente_A, modulos_multiplos_Corrente_A, angulos_multiplos_Corrente_A):\n",
        "    print(f\"{freq:.2f}\\t\\t {modulo:.10f}\\t\\t\\t {angulo:.2f}\")"
      ],
      "metadata": {
        "id": "jWAE23e9v3Ev",
        "colab": {
          "base_uri": "https://localhost:8080/"
        },
        "outputId": "c3706339-0080-437b-db8c-f73a76f80f5d"
      },
      "execution_count": 139,
      "outputs": [
        {
          "output_type": "stream",
          "name": "stdout",
          "text": [
            "Frequência fundamental: 60.02400960384398\n",
            "Múltiplos da frequência fundamental:  60.02400960384398\n",
            "\n",
            "\n",
            "Frequência (Hz)\t\tMódulo (v)\t\t\tÂngulo (graus)\n",
            "\n",
            "60.02\t\t 0.5349471058\t\t\t 173.51\n",
            "180.07\t\t 0.0270247789\t\t\t -85.80\n",
            "300.12\t\t 0.0455222615\t\t\t 13.12\n",
            "420.17\t\t 0.0332913148\t\t\t 162.07\n",
            "540.22\t\t 0.0036459602\t\t\t 56.76\n",
            "660.26\t\t 0.0115467547\t\t\t 9.20\n",
            "780.31\t\t 0.0023427921\t\t\t 65.36\n"
          ]
        }
      ]
    },
    {
      "cell_type": "markdown",
      "source": [
        "# Espectro da Corrente de Fuga do Para-Raios B"
      ],
      "metadata": {
        "id": "GkSR_L6YwDlA"
      }
    },
    {
      "cell_type": "code",
      "source": [
        "tempo3 = novo_CH3_Osc_1['Tempo3']\n",
        "amplitude3 = corrente_CH3\n",
        "\n",
        "# Passo 3: Calcular a FFT\n",
        "fft_amplitude_Corrente_B = np.fft.fft(amplitude3)\n",
        "\n",
        "# Ângulos\n",
        "angulo_Corrente_B = np.angle(fft_amplitude_Corrente_B)\n",
        "\n",
        "#Valores absolutos\n",
        "valores_absolutos_Corrente_B = np.abs(fft_amplitude_Corrente_B)\n",
        "\n",
        "# Passo 4: Calcular as frequências correspondentes\n",
        "frequencias_Corrente_B = np.fft.fftfreq(len(tempo3), tempo3[1] - tempo3[0])\n",
        "\n",
        "# Passo 5: Plotar o espectro de frequência\n",
        "plt.plot(frequencias_Corrente_B, np.abs(fft_amplitude_Corrente_B), color = 'magenta')\n",
        "plt.title('Espectro de Frequência do canal H3 - Para-Raio B')\n",
        "plt.xlabel('Frequência (Hz)')\n",
        "plt.ylabel('Amplitude das Componentes de Frequência')\n",
        "plt.grid(True)\n",
        "plt.xlim(0, 1000)\n",
        "plt.xticks(np.arange(0, 1001, 100))\n",
        "plt.show()"
      ],
      "metadata": {
        "id": "hC6kpSNiwL6w",
        "colab": {
          "base_uri": "https://localhost:8080/",
          "height": 473
        },
        "outputId": "992269bd-1530-43a2-bf60-8868c5f14a1c"
      },
      "execution_count": 140,
      "outputs": [
        {
          "output_type": "display_data",
          "data": {
            "text/plain": [
              "<Figure size 640x480 with 1 Axes>"
            ],
            "image/png": "[encoded data removed]"
          },
          "metadata": {}
        }
      ]
    },
    {
      "cell_type": "code",
      "source": [
        "# Convertendo os ângulos para graus\n",
        "angulo_graus_Corrente_B = np.degrees(angulo_Corrente_B)\n",
        "\n",
        "# Listas para salvar os valores de frequência, módulo e ângulo para TENSÃO.\n",
        "frequencias_salvas_Corrente_B = []\n",
        "modulos_salvos_Corrente_B = []\n",
        "angulos_salvos_Corrente_B = []\n",
        "frequencias_multiplos_60_Corrente_B = []\n",
        "modulos_multiplos_60_Corrente_B = []\n",
        "angulos_multiplos_60_Corrente_B = []\n",
        "\n",
        "# Imprimindo os valores do espectro da TENSÃO\n",
        "print(\"Valores do espectro da corrente B\\n\")\n",
        "print(\"Frequência (Hz)\\t\\tMódulo (v)\\t\\t\\tÂngulo (graus)\\n\")\n",
        "for f_Corrente_B, mod_Corrente_B, ang_graus_Corrente_B in zip(frequencias_Corrente_B[frequencias_Corrente_B > 0], valores_absolutos_Corrente_B[frequencias_Corrente_B > 0], angulo_graus_Corrente_B[frequencias_Corrente_B > 0]):\n",
        "\n",
        "  if (f_Corrente_B > 60) and (f_Corrente_B < 1000) and (mod_Corrente_B > 2e-3):\n",
        "    print(f\"{f_Corrente_B:.2f}\\t\\t\\t{mod_Corrente_B:.10f}\\t\\t\\t{ang_graus_Corrente_B:.2f}°\")\n",
        "    frequencias_salvas_Corrente_B.append(f_Corrente_B)\n",
        "    modulos_salvos_Corrente_B.append(mod_Corrente_B)\n",
        "    angulos_salvos_Corrente_B.append(ang_graus_Corrente_B)"
      ],
      "metadata": {
        "id": "Yj0L_Nl7wccZ",
        "colab": {
          "base_uri": "https://localhost:8080/"
        },
        "outputId": "15453730-dcdd-4ce1-af38-46698392c4f6"
      },
      "execution_count": 141,
      "outputs": [
        {
          "output_type": "stream",
          "name": "stdout",
          "text": [
            "Valores do espectro da corrente B\n",
            "\n",
            "Frequência (Hz)\t\tMódulo (v)\t\t\tÂngulo (graus)\n",
            "\n",
            "60.02\t\t\t0.8843359136\t\t\t135.98°\n",
            "120.05\t\t\t0.0030203995\t\t\t-159.92°\n",
            "180.07\t\t\t0.1571060606\t\t\t-88.21°\n",
            "300.12\t\t\t0.0579418036\t\t\t-18.98°\n",
            "420.17\t\t\t0.0399117197\t\t\t146.25°\n",
            "540.22\t\t\t0.0026615307\t\t\t-43.59°\n",
            "660.26\t\t\t0.0108635379\t\t\t-4.89°\n",
            "780.31\t\t\t0.0034729412\t\t\t59.07°\n"
          ]
        }
      ]
    },
    {
      "cell_type": "code",
      "source": [
        "# Encontrar a frequência com a maior amplitude\n",
        "indice_fundamental_Corrente_B = np.argmax(modulos_salvos_Corrente_B)\n",
        "frequencia_fundamental_Corrente_B = frequencias_salvas_Corrente_B[indice_fundamental_Corrente_B]\n",
        "\n",
        "print(\"Frequência fundamental:\", frequencia_fundamental_Corrente_B)\n",
        "\n",
        "# Listas para armazenar os múltiplos\n",
        "frequencias_multiplos_Corrente_B = []\n",
        "modulos_multiplos_Corrente_B = []\n",
        "angulos_multiplos_Corrente_B = []\n",
        "\n",
        "# Verificar os múltiplos da frequência fundamental\n",
        "for i, frequencia_Corrente_B in enumerate(frequencias_salvas_Corrente_B):\n",
        "    if frequencia_Corrente_B % frequencia_fundamental_Corrente_B == 0:\n",
        "        frequencias_multiplos_Corrente_B.append(frequencia_Corrente_B)\n",
        "        modulos_multiplos_Corrente_B.append(modulos_salvos_Corrente_B[i])\n",
        "        angulos_multiplos_Corrente_B.append(angulos_salvos_Corrente_B[i])\n",
        "\n",
        "# Imprimir os múltiplos encontrados\n",
        "print(\"Múltiplos da frequência fundamental: \", frequencia_fundamental_Corrente_B)\n",
        "print(\"\\n\")\n",
        "print(\"Frequência (Hz)\\t\\tMódulo (v)\\t\\t\\tÂngulo (graus)\\n\")\n",
        "for freq, modulo, angulo in zip(frequencias_multiplos_Corrente_B, modulos_multiplos_Corrente_B, angulos_multiplos_Corrente_B):\n",
        "    print(f\"{freq:.2f}\\t\\t {modulo:.10f}\\t\\t\\t {angulo:.2f}\")"
      ],
      "metadata": {
        "colab": {
          "base_uri": "https://localhost:8080/"
        },
        "id": "Zxavxtyp8qzm",
        "outputId": "8b1e59e6-0edd-4fd3-ee09-f1e48a2c8834"
      },
      "execution_count": 142,
      "outputs": [
        {
          "output_type": "stream",
          "name": "stdout",
          "text": [
            "Frequência fundamental: 60.02400960384398\n",
            "Múltiplos da frequência fundamental:  60.02400960384398\n",
            "\n",
            "\n",
            "Frequência (Hz)\t\tMódulo (v)\t\t\tÂngulo (graus)\n",
            "\n",
            "60.02\t\t 0.8843359136\t\t\t 135.98\n",
            "120.05\t\t 0.0030203995\t\t\t -159.92\n",
            "180.07\t\t 0.1571060606\t\t\t -88.21\n",
            "300.12\t\t 0.0579418036\t\t\t -18.98\n",
            "420.17\t\t 0.0399117197\t\t\t 146.25\n",
            "540.22\t\t 0.0026615307\t\t\t -43.59\n",
            "660.26\t\t 0.0108635379\t\t\t -4.89\n",
            "780.31\t\t 0.0034729412\t\t\t 59.07\n"
          ]
        }
      ]
    },
    {
      "cell_type": "markdown",
      "source": [
        "# Espectro da Corrente de Fuga do Para-Raios C"
      ],
      "metadata": {
        "id": "d6_wYZWXwodz"
      }
    },
    {
      "cell_type": "code",
      "source": [
        "tempo4 = novo_CH4_Osc_1['Tempo4']\n",
        "amplitude4 = corrente_CH4\n",
        "\n",
        "# Passo 3: Calcular a FFT\n",
        "fft_amplitude_Corrente_C = np.fft.fft(amplitude4)\n",
        "\n",
        "# Ângulos\n",
        "angulo_Corrente_C = np.angle(fft_amplitude_Corrente_C)\n",
        "\n",
        "#Valores absolutos\n",
        "valores_absolutos_Corrente_C = np.abs(fft_amplitude_Corrente_C)\n",
        "\n",
        "# Passo 4: Calcular as frequências correspondentes\n",
        "frequencias_Corrente_C = np.fft.fftfreq(len(tempo4), tempo4[1] - tempo4[0])\n",
        "\n",
        "# Passo 5: Plotar o espectro de frequência\n",
        "plt.plot(frequencias_Corrente_C, np.abs(fft_amplitude_Corrente_C), color = 'green')\n",
        "plt.title('Espectro de Frequência do Canal H4 - Para-Raio C')\n",
        "plt.xlabel('Frequência (Hz)')\n",
        "plt.ylabel('Amplitude das Componentes de Frequência')\n",
        "plt.grid(True)\n",
        "plt.xlim(0, 1000)\n",
        "plt.xticks(np.arange(0, 1001, 100))\n",
        "plt.show()"
      ],
      "metadata": {
        "id": "XRIZsPH2wuK3",
        "colab": {
          "base_uri": "https://localhost:8080/",
          "height": 473
        },
        "outputId": "3f77f503-32a9-4651-8134-3216667bb1ea"
      },
      "execution_count": 143,
      "outputs": [
        {
          "output_type": "display_data",
          "data": {
            "text/plain": [
              "<Figure size 640x480 with 1 Axes>"
            ],
            "image/png": "[encoded data removed]"
          },
          "metadata": {}
        }
      ]
    },
    {
      "cell_type": "code",
      "source": [
        "# Convertendo os ângulos para graus\n",
        "angulo_graus_Corrente_C = np.degrees(angulo_Corrente_C)\n",
        "\n",
        "# Listas para salvar os valores de frequência, módulo e ângulo para TENSÃO.\n",
        "frequencias_salvas_Corrente_C = []\n",
        "modulos_salvos_Corrente_C = []\n",
        "angulos_salvos_Corrente_C = []\n",
        "frequencias_multiplos_60_Corrente_C = []\n",
        "modulos_multiplos_60_Corrente_C = []\n",
        "angulos_multiplos_60_Corrente_C = []\n",
        "\n",
        "# Imprimindo os valores do espectro da TENSÃO\n",
        "print(\"Valores do espectro da corrente C\\n\")\n",
        "print(\"Frequência (Hz)\\t\\tMódulo (v)\\t\\t\\tÂngulo (graus)\\n\")\n",
        "for f_Corrente_C, mod_Corrente_C, ang_graus_Corrente_C in zip(frequencias_Corrente_C[frequencias_Corrente_C > 0], valores_absolutos_Corrente_C[frequencias_Corrente_C > 0], angulo_graus_Corrente_C[frequencias_Corrente_C > 0]):\n",
        "\n",
        "  if (f_Corrente_C > 60) and (f_Corrente_C < 1000) and (mod_Corrente_C > 2e-3):\n",
        "    print(f\"{f_Corrente_C:.2f}\\t\\t\\t{mod_Corrente_C:.4f}\\t\\t\\t{ang_graus_Corrente_C:.2f}°\")\n",
        "    frequencias_salvas_Corrente_C.append(f_Corrente_C)\n",
        "    modulos_salvos_Corrente_C.append(mod_Corrente_C)\n",
        "    angulos_salvos_Corrente_C.append(ang_graus_Corrente_C)"
      ],
      "metadata": {
        "id": "2ahzpTVzw7to",
        "colab": {
          "base_uri": "https://localhost:8080/"
        },
        "outputId": "3399a482-4a85-46ba-c92e-39970293f49d"
      },
      "execution_count": 144,
      "outputs": [
        {
          "output_type": "stream",
          "name": "stdout",
          "text": [
            "Valores do espectro da corrente C\n",
            "\n",
            "Frequência (Hz)\t\tMódulo (v)\t\t\tÂngulo (graus)\n",
            "\n",
            "60.02\t\t\t0.5158\t\t\t-176.69°\n",
            "180.07\t\t\t0.0096\t\t\t-134.68°\n",
            "300.12\t\t\t0.0445\t\t\t19.22°\n",
            "420.17\t\t\t0.0320\t\t\t166.54°\n",
            "540.22\t\t\t0.0047\t\t\t54.50°\n",
            "660.26\t\t\t0.0110\t\t\t9.56°\n",
            "780.31\t\t\t0.0031\t\t\t61.36°\n"
          ]
        }
      ]
    },
    {
      "cell_type": "code",
      "source": [
        "# Encontrar a frequência com a maior amplitude\n",
        "indice_fundamental_Corrente_C = np.argmax(modulos_salvos_Corrente_C)\n",
        "frequencia_fundamental_Corrente_C = frequencias_salvas_Corrente_C[indice_fundamental_Corrente_C]\n",
        "\n",
        "print(\"Frequência fundamental:\", frequencia_fundamental_Corrente_C)\n",
        "\n",
        "# Listas para armazenar os múltiplos\n",
        "frequencias_multiplos_Corrente_C = []\n",
        "modulos_multiplos_Corrente_C = []\n",
        "angulos_multiplos_Corrente_C = []\n",
        "\n",
        "# Verificar os múltiplos da frequência fundamental\n",
        "for i, frequencia_Corrente_C in enumerate(frequencias_salvas_Corrente_C):\n",
        "    if frequencia_Corrente_C % frequencia_fundamental_Corrente_C == 0:\n",
        "        frequencias_multiplos_Corrente_C.append(frequencia_Corrente_C)\n",
        "        modulos_multiplos_Corrente_C.append(modulos_salvos_Corrente_C[i])\n",
        "        angulos_multiplos_Corrente_C.append(angulos_salvos_Corrente_C[i])\n",
        "\n",
        "# Imprimir os múltiplos encontrados\n",
        "print(\"Múltiplos da frequência fundamental: \", frequencia_fundamental_Corrente_C)\n",
        "print(\"\\n\")\n",
        "print(\"Frequência (Hz)\\t\\tMódulo (v)\\t\\t\\tÂngulo (graus)\\n\")\n",
        "for freq, modulo, angulo in zip(frequencias_multiplos_Corrente_C, modulos_multiplos_Corrente_C, angulos_multiplos_Corrente_C):\n",
        "    print(f\"{freq:.2f}\\t\\t {modulo:.10f}\\t\\t\\t {angulo:.2f}\")"
      ],
      "metadata": {
        "id": "a4gwSlPdxJK6",
        "colab": {
          "base_uri": "https://localhost:8080/"
        },
        "outputId": "6353b703-816b-45fe-b264-3131aa048213"
      },
      "execution_count": 145,
      "outputs": [
        {
          "output_type": "stream",
          "name": "stdout",
          "text": [
            "Frequência fundamental: 60.02400960384398\n",
            "Múltiplos da frequência fundamental:  60.02400960384398\n",
            "\n",
            "\n",
            "Frequência (Hz)\t\tMódulo (v)\t\t\tÂngulo (graus)\n",
            "\n",
            "60.02\t\t 0.5158025341\t\t\t -176.69\n",
            "180.07\t\t 0.0095748532\t\t\t -134.68\n",
            "300.12\t\t 0.0445349490\t\t\t 19.22\n",
            "420.17\t\t 0.0320410443\t\t\t 166.54\n",
            "540.22\t\t 0.0046727782\t\t\t 54.50\n",
            "660.26\t\t 0.0109768029\t\t\t 9.56\n",
            "780.31\t\t 0.0030972612\t\t\t 61.36\n"
          ]
        }
      ]
    },
    {
      "cell_type": "markdown",
      "source": [
        "# Espectro da Corrente de Fuga do Para-Raios D"
      ],
      "metadata": {
        "id": "cUSl_Wy_xRvA"
      }
    },
    {
      "cell_type": "code",
      "source": [
        "tempo5 = novo_CH2_Osc_2['Tempo5']\n",
        "amplitude5 = corrente_CH5\n",
        "\n",
        "# Passo 3: Calcular a FFT\n",
        "fft_amplitude_Corrente_D = np.fft.fft(amplitude5)\n",
        "\n",
        "# Ângulos\n",
        "angulo_Corrente_D = np.angle(fft_amplitude_Corrente_D)\n",
        "\n",
        "#Valores absolutos\n",
        "valores_absolutos_Corrente_D = np.abs(fft_amplitude_Corrente_D)\n",
        "\n",
        "# Passo 4: Calcular as frequências correspondentes\n",
        "frequencias_Corrente_D = np.fft.fftfreq(len(tempo5), tempo5[1] - tempo5[0])\n",
        "\n",
        "# Passo 5: Plotar o espectro de frequência\n",
        "plt.plot(frequencias_Corrente_D, np.abs(fft_amplitude_Corrente_D), color = 'maroon')\n",
        "plt.title('Espectro de Frequência do Canal H5 - Para-Raio D')\n",
        "plt.xlabel('Frequência (Hz)')\n",
        "plt.ylabel('Amplitude das Componentes de Frequência')\n",
        "plt.grid(True)\n",
        "plt.xlim(0, 1000)\n",
        "plt.xticks(np.arange(0, 1001, 100))\n",
        "plt.show()"
      ],
      "metadata": {
        "id": "9XcUz_K3xTSA",
        "colab": {
          "base_uri": "https://localhost:8080/",
          "height": 473
        },
        "outputId": "aa4c437a-6019-444b-d93d-0ebf91c4b230"
      },
      "execution_count": 146,
      "outputs": [
        {
          "output_type": "display_data",
          "data": {
            "text/plain": [
              "<Figure size 640x480 with 1 Axes>"
            ],
            "image/png": "[encoded data removed]"
          },
          "metadata": {}
        }
      ]
    },
    {
      "cell_type": "code",
      "source": [
        "# Dados para corrente_D\n",
        "angulo_graus_Corrente_D = np.degrees(angulo_Corrente_D)\n",
        "\n",
        "# Listas para salvar os valores de frequência, módulo e ângulo para CORRENTE D.\n",
        "frequencias_salvas_Corrente_D = []\n",
        "modulos_salvos_Corrente_D = []\n",
        "angulos_salvos_Corrente_D = []\n",
        "frequencias_multiplos_60_Corrente_D = []\n",
        "modulos_multiplos_60_Corrente_D = []\n",
        "angulos_multiplos_60_Corrente_D = []\n",
        "\n",
        "# Imprimindo os valores do espectro da CORRENTE D\n",
        "print(\"Valores do espectro da corrente D\\n\")\n",
        "print(\"Frequência (Hz)\\t\\tMódulo (v)\\t\\t\\tÂngulo (graus)\\n\")\n",
        "for f_Corrente_D, mod_Corrente_D, ang_graus_Corrente_D in zip(frequencias_Corrente_D[frequencias_Corrente_D > 0], valores_absolutos_Corrente_D[frequencias_Corrente_D > 0], angulo_graus_Corrente_D[frequencias_Corrente_D > 0]):\n",
        "\n",
        "    if (f_Corrente_D > 60) and (f_Corrente_D < 1000) and (mod_Corrente_D > 2e-3):\n",
        "        print(f\"{f_Corrente_D:.2f}\\t\\t\\t{mod_Corrente_D:.4f}\\t\\t\\t{ang_graus_Corrente_D:.2f}°\")\n",
        "        frequencias_salvas_Corrente_D.append(f_Corrente_D)\n",
        "        modulos_salvos_Corrente_D.append(mod_Corrente_D)\n",
        "        angulos_salvos_Corrente_D.append(ang_graus_Corrente_D)\n"
      ],
      "metadata": {
        "id": "a7Sw7W3nyNrq",
        "colab": {
          "base_uri": "https://localhost:8080/"
        },
        "outputId": "a96c5047-0a2c-43ac-b9f7-8f66820ff267"
      },
      "execution_count": 147,
      "outputs": [
        {
          "output_type": "stream",
          "name": "stdout",
          "text": [
            "Valores do espectro da corrente D\n",
            "\n",
            "Frequência (Hz)\t\tMódulo (v)\t\t\tÂngulo (graus)\n",
            "\n",
            "60.02\t\t\t0.3046\t\t\t174.29°\n",
            "180.07\t\t\t0.0055\t\t\t-111.03°\n",
            "300.12\t\t\t0.0256\t\t\t-6.39°\n",
            "420.17\t\t\t0.0184\t\t\t131.14°\n",
            "540.22\t\t\t0.0022\t\t\t7.16°\n",
            "660.26\t\t\t0.0065\t\t\t-36.45°\n"
          ]
        }
      ]
    },
    {
      "cell_type": "code",
      "source": [
        "# Encontrar a frequência com a maior amplitude para corrente_D\n",
        "indice_fundamental_Corrente_D = np.argmax(modulos_salvos_Corrente_D)\n",
        "frequencia_fundamental_Corrente_D = frequencias_salvas_Corrente_D[indice_fundamental_Corrente_D]\n",
        "\n",
        "print(\"Frequência fundamental:\", frequencia_fundamental_Corrente_D)\n",
        "\n",
        "# Listas para armazenar os múltiplos de corrente_D\n",
        "frequencias_multiplos_Corrente_D = []\n",
        "modulos_multiplos_Corrente_D = []\n",
        "angulos_multiplos_Corrente_D = []\n",
        "\n",
        "# Verificar os múltiplos da frequência fundamental de corrente_D\n",
        "for i, frequencia_Corrente_D in enumerate(frequencias_salvas_Corrente_D):\n",
        "    if frequencia_Corrente_D % frequencia_fundamental_Corrente_D == 0:\n",
        "        frequencias_multiplos_Corrente_D.append(frequencia_Corrente_D)\n",
        "        modulos_multiplos_Corrente_D.append(modulos_salvos_Corrente_D[i])\n",
        "        angulos_multiplos_Corrente_D.append(angulos_salvos_Corrente_D[i])\n",
        "\n",
        "# Imprimir os múltiplos encontrados de corrente_D\n",
        "print(\"Múltiplos da frequência fundamental: \", frequencia_fundamental_Corrente_D)\n",
        "print(\"\\n\")\n",
        "print(\"Frequência (Hz)\\t\\tMódulo (v)\\t\\t\\tÂngulo (graus)\\n\")\n",
        "for freq, modulo, angulo in zip(frequencias_multiplos_Corrente_D, modulos_multiplos_Corrente_D, angulos_multiplos_Corrente_D):\n",
        "    print(f\"{freq:.2f}\\t\\t {modulo:.10f}\\t\\t\\t {angulo:.2f}\")\n",
        "\n"
      ],
      "metadata": {
        "id": "EDY2Ryuly6zl",
        "colab": {
          "base_uri": "https://localhost:8080/"
        },
        "outputId": "08a357b4-565b-4394-a8c8-624e558e6259"
      },
      "execution_count": 148,
      "outputs": [
        {
          "output_type": "stream",
          "name": "stdout",
          "text": [
            "Frequência fundamental: 60.02400960384398\n",
            "Múltiplos da frequência fundamental:  60.02400960384398\n",
            "\n",
            "\n",
            "Frequência (Hz)\t\tMódulo (v)\t\t\tÂngulo (graus)\n",
            "\n",
            "60.02\t\t 0.3046379020\t\t\t 174.29\n",
            "180.07\t\t 0.0055188936\t\t\t -111.03\n",
            "300.12\t\t 0.0256475481\t\t\t -6.39\n",
            "420.17\t\t 0.0183948485\t\t\t 131.14\n",
            "540.22\t\t 0.0021743620\t\t\t 7.16\n",
            "660.26\t\t 0.0065082999\t\t\t -36.45\n"
          ]
        }
      ]
    },
    {
      "cell_type": "markdown",
      "source": [
        "# Espectro da Corrente de Fuga do Para-Raios E"
      ],
      "metadata": {
        "id": "ym81hExZzVIg"
      }
    },
    {
      "cell_type": "code",
      "source": [
        "tempo6 = novo_CH3_Osc_2['Tempo6']\n",
        "amplitude6 = corrente_CH6\n",
        "\n",
        "# Passo 3: Calcular a FFT\n",
        "fft_amplitude_Corrente_E = np.fft.fft(amplitude6)\n",
        "\n",
        "# Ângulos\n",
        "angulo_Corrente_E = np.angle(fft_amplitude_Corrente_E)\n",
        "\n",
        "#Valores absolutos\n",
        "valores_absolutos_Corrente_E = np.abs(fft_amplitude_Corrente_E)\n",
        "\n",
        "# Passo 4: Calcular as frequências correspondentes\n",
        "frequencias_Corrente_E = np.fft.fftfreq(len(tempo6), tempo6[1] - tempo6[0])\n",
        "\n",
        "# Passo 5: Plotar o espectro de frequência\n",
        "plt.plot(frequencias_Corrente_E, np.abs(fft_amplitude_Corrente_E), color = 'purple')\n",
        "plt.title('Espectro de Frequência do Canal H6 - Para-Raio E')\n",
        "plt.xlabel('Frequência (Hz)')\n",
        "plt.ylabel('Amplitude das Componentes de Frequência')\n",
        "plt.grid(True)\n",
        "plt.xlim(0, 1000)\n",
        "plt.xticks(np.arange(0, 1001, 100))\n",
        "plt.show()"
      ],
      "metadata": {
        "id": "scw99O4yzbBn",
        "colab": {
          "base_uri": "https://localhost:8080/",
          "height": 473
        },
        "outputId": "09829982-7af8-4a6d-9ee4-8bd1daae90eb"
      },
      "execution_count": 149,
      "outputs": [
        {
          "output_type": "display_data",
          "data": {
            "text/plain": [
              "<Figure size 640x480 with 1 Axes>"
            ],
            "image/png": "[encoded data removed]"
          },
          "metadata": {}
        }
      ]
    },
    {
      "cell_type": "code",
      "source": [
        "# Convertendo os ângulos para graus para corrente_E\n",
        "angulo_graus_Corrente_E = np.degrees(angulo_Corrente_E)\n",
        "\n",
        "# Listas para salvar os valores de frequência, módulo e ângulo para corrente_E\n",
        "frequencias_salvas_Corrente_E = []\n",
        "modulos_salvos_Corrente_E = []\n",
        "angulos_salvos_Corrente_E = []\n",
        "frequencias_multiplos_60_Corrente_E = []\n",
        "modulos_multiplos_60_Corrente_E = []\n",
        "angulos_multiplos_60_Corrente_E = []\n",
        "\n",
        "# Imprimindo os valores do espectro de corrente_E\n",
        "print(\"Valores do espectro da corrente E\\n\")\n",
        "print(\"Frequência (Hz)\\t\\tMódulo (v)\\t\\t\\tÂngulo (graus)\\n\")\n",
        "for f_Corrente_E, mod_Corrente_E, ang_graus_Corrente_E in zip(frequencias_Corrente_E[frequencias_Corrente_E > 0], valores_absolutos_Corrente_E[frequencias_Corrente_E > 0], angulo_graus_Corrente_E[frequencias_Corrente_E > 0]):\n",
        "\n",
        "    if (f_Corrente_E > 60) and (f_Corrente_E < 1000) and (mod_Corrente_E > 2.5e-3):\n",
        "        print(f\"{f_Corrente_E:.2f}\\t\\t\\t{mod_Corrente_E:.4f}\\t\\t\\t{ang_graus_Corrente_E:.2f}°\")\n",
        "        frequencias_salvas_Corrente_E.append(f_Corrente_E)\n",
        "        modulos_salvos_Corrente_E.append(mod_Corrente_E)\n",
        "        angulos_salvos_Corrente_E.append(ang_graus_Corrente_E)\n",
        "\n",
        "# Agora vamos continuar com a adaptação do código para 'E'.\n"
      ],
      "metadata": {
        "id": "HctADvaT0d55",
        "colab": {
          "base_uri": "https://localhost:8080/"
        },
        "outputId": "3830c406-9ebc-4805-c77f-95360f053982"
      },
      "execution_count": 150,
      "outputs": [
        {
          "output_type": "stream",
          "name": "stdout",
          "text": [
            "Valores do espectro da corrente E\n",
            "\n",
            "Frequência (Hz)\t\tMódulo (v)\t\t\tÂngulo (graus)\n",
            "\n",
            "60.02\t\t\t1.3143\t\t\t116.46°\n",
            "180.07\t\t\t0.2718\t\t\t-102.16°\n",
            "300.12\t\t\t0.0776\t\t\t-62.41°\n",
            "420.17\t\t\t0.0461\t\t\t101.48°\n",
            "540.22\t\t\t0.0050\t\t\t-92.10°\n",
            "660.26\t\t\t0.0111\t\t\t-68.25°\n",
            "780.31\t\t\t0.0046\t\t\t1.98°\n"
          ]
        }
      ]
    },
    {
      "cell_type": "code",
      "source": [
        "# Encontrar a frequência com a maior amplitude para corrente_E\n",
        "indice_fundamental_Corrente_E = np.argmax(modulos_salvos_Corrente_E)\n",
        "frequencia_fundamental_Corrente_E = frequencias_salvas_Corrente_E[indice_fundamental_Corrente_E]\n",
        "\n",
        "print(\"Frequência fundamental:\", frequencia_fundamental_Corrente_E)\n",
        "\n",
        "# Listas para armazenar os múltiplos de corrente_E\n",
        "frequencias_multiplos_Corrente_E = []\n",
        "modulos_multiplos_Corrente_E = []\n",
        "angulos_multiplos_Corrente_E = []\n",
        "\n",
        "# Verificar os múltiplos da frequência fundamental de corrente_E\n",
        "for i, frequencia_Corrente_E in enumerate(frequencias_salvas_Corrente_E):\n",
        "    if frequencia_Corrente_E % frequencia_fundamental_Corrente_E == 0:\n",
        "        frequencias_multiplos_Corrente_E.append(frequencia_Corrente_E)\n",
        "        modulos_multiplos_Corrente_E.append(modulos_salvos_Corrente_E[i])\n",
        "        angulos_multiplos_Corrente_E.append(angulos_salvos_Corrente_E[i])\n",
        "\n",
        "# Imprimir os múltiplos encontrados de corrente_E\n",
        "print(\"Múltiplos da frequência fundamental: \", frequencia_fundamental_Corrente_E)\n",
        "print(\"\\n\")\n",
        "print(\"Frequência (Hz)\\t\\tMódulo (v)\\t\\t\\tÂngulo (graus)\\n\")\n",
        "for freq, modulo, angulo in zip(frequencias_multiplos_Corrente_E, modulos_multiplos_Corrente_E, angulos_multiplos_Corrente_E):\n",
        "    print(f\"{freq:.2f}\\t\\t {modulo:.10f}\\t\\t\\t {angulo:.2f}\")\n"
      ],
      "metadata": {
        "id": "zsorND7o0qvw",
        "colab": {
          "base_uri": "https://localhost:8080/"
        },
        "outputId": "4901aa37-7b60-411d-9c3d-ffb85b5d9433"
      },
      "execution_count": 151,
      "outputs": [
        {
          "output_type": "stream",
          "name": "stdout",
          "text": [
            "Frequência fundamental: 60.02400960384398\n",
            "Múltiplos da frequência fundamental:  60.02400960384398\n",
            "\n",
            "\n",
            "Frequência (Hz)\t\tMódulo (v)\t\t\tÂngulo (graus)\n",
            "\n",
            "60.02\t\t 1.3143340246\t\t\t 116.46\n",
            "180.07\t\t 0.2717849581\t\t\t -102.16\n",
            "300.12\t\t 0.0776054535\t\t\t -62.41\n",
            "420.17\t\t 0.0460931909\t\t\t 101.48\n",
            "540.22\t\t 0.0049504003\t\t\t -92.10\n",
            "660.26\t\t 0.0110980345\t\t\t -68.25\n",
            "780.31\t\t 0.0045500515\t\t\t 1.98\n"
          ]
        }
      ]
    },
    {
      "cell_type": "markdown",
      "source": [
        "# Calculando a Distorção Harmônica  \n",
        "### Tensão"
      ],
      "metadata": {
        "id": "IVuug71c5Jjs"
      }
    },
    {
      "cell_type": "markdown",
      "source": [
        "![image.png](data:image/png;base64,iVBORw0KGgoAAAANSUhEUgAAAS0AAABpCAYAAABvXXUgAAAAAXNSR0IArs4c6QAAAARnQU1BAACxjwv8YQUAAAAJcEhZcwAADsMAAA7DAcdvqGQAABZ2SURBVHhe7Z0JmFXjH8dfu7Jkl5C9kLVNJXsYO6MMHlnCkyWeh2SLh/CgZC3JOmrwJFMN4iGVpbITE7JG2ZU1a9L5n8+v8/Y/rjtz77n33Jnznvl9nuc8M/fMvXfuPfe+3/Pbz3Kej1EURXGE5YOfiqIoTqCipSiKU6hoKYriFCpaiqI4hYqWoihOoaKlKIpTqGgpiuIUKlqKojiFipaiKE6hoqUoilOoaCmK4hTae6g4xwMPPGCqq6uDW0oUjjjiCHPKKacEt9xERUtxjoMPPti89dZbZt999w32KPly0kknmf333z+45SYqWopzdOvWzXTo0MEMGzYs2KM0JTSmpTjHb7/9ZjbddNPgltLUUNFSnALH4K+//jJbbrllsEdpaqhoKU6xcOFCs3jxYtO2bdtgjxvwmrEQf//9d7NkyZJgr1IIKlqKU/zwww/m77//NltttVWwJ/ksWLDAjBgxwpx++ummX79+5oknnhARUwpDRUtxim+++UYWfPPmzYM9yWbRokWmpqbG/PLLL+aggw4yf/75p7ngggvMjBkzgnsoUVHRUpzi22+/DX5zA8Rq6623NgMGDDAnnHCCufLKK81qq61mHn300eAeSlRUtBSn+P77783KK68c3Gpc8qkWWm+99czee+9tVlllFbPccsuZli1bmlatWpnVV189uIcSFRUtxSl++uknsVTqAiH5+OOPzQsvvGB+/fXXYG/84PZNmTLFzJ492/zzzz/B3twQ30J0jz766GCPEhUVLcUpyB6uvfbawa1/QynEI488YgYPHmxWWGEFs9JKKwV/iZ/ll19eXgctRePGjZP/nQsSCC+99JI58MADzQ477BDsVaKioqU4BWUDG2ywQXDr/yAICMiYMWPMNddcI1XzuGSlYsUVV5Sq/FNPPdVMmDDBjB49OvhL3WAB4t726tVLRFUpDBUtxSlwyzbeeOPg1lJwCR9//HEzdepUM2jQILPhhhtK/KghoMh14MCBElivrKyU15eNL7/80kybNk36JtdZZx25H0KrREdFS3EGYke4YZtvvnmwZyk0T48aNcqceOKJZvvttw/2Nhzt2rUzl1xyibwGhDNcPIqgvvvuu+a6664TIUW8Jk+ebO677z7z3XffBfdSoqCipTgDgkVFeZs2bYI9xvz8889iXe2+++5mn332aRS3CzHq0qWL6d27t7ioX3/9dfAXYz744APTv39/U1VVZa666iq5z8knn2yeeeYZs9ZaawX3UqKgUx4chjP622+/LcWL8+bNk9tk1nbaaSeZmUSW6s033zQPPvigxFJWXXVVWVzHH398SeM9pYLMG1XlxKywbvjqEk+68cYbxT3E7coH3DKsNvvVR3SIUbFB+O+Zf6uPH3/80Zx99tkys4q4FcF6JX70qDoMi2LXXXc1ffr0Ma+//rrEVRAsgsO2Lqh9+/YS46ECG2ukoqLCScECCjURBpsV5PeJEyeK5ZKvYAEZPNw1yg7Ky8tlxE1tba1U2iP8HKszzzzTHHPMMWbo0KHmnXfeyatfcI011pCarOnTp5s//vgj2KvEjYpWCmjRooUsGNyNXXbZ5V+pfhY2cZQhQ4aIheVK+0s2bMMxYgyfffaZCNkBBxwgt/Nljz32MLvttpuZNWuWmTt3rjn22GNF3LGmOBHQjI0rijXH0Lydd945L6uJx3fq1EmO91dffRXsVeJGRSsFsMCI7SBIa665ZrB3aeD6ueeeM507dzaHH354Xi5OkkGweK8ICO8NC4gK82wlEPWB6GFt8jw0Xm+yySbBX5YGzufMmSMBfXoEmdtlRTIfSBJwEnnjjTeCPUrcqGilAKwNqr9pDQm3h7D4aDAmze66YAHNxggIwXZcOSwt+vqiFpEiTBSp8nwIVliUOI6vvfaaiDwtOFHhpEGi4OWXX14WM1PiRUUrBSBauE64iNb9I6ZCKwtuUF0V5K6BlYVAIcDUOSHI1Gzl47qFIT5FOxDP0bp162Dv0gD8+PHjpfaq0NIJBHW77baTMgcsQyV+VLRSAHErFjTiRIaQRcniIzi94447RnJvkgyigigjWlhJCA/Nx4WIFu40LqYtVMUqwpXG0urRo0dRlikuJXO/2JT4UdFKAZQCsAARLcociKd88skn5tBDD03MRIQ44D2SbMDashNAiR9FxVpaiB2ZVfj000+lPIRSkWKTFXwO/A/KTJT4UdFKAYgWi2TdddeV34mnnHvuuZFjPUkGSwihIuhOEB331wbUo0I8DOsUV2799deX+BZlDoccckgs2VVq5RBErDklflS0HAfrAzfEWh0IVteuXbNWW7PwaR2hSpuNBl5iYewnqG33Y6XV1UPXWPAasVxwB7EecYcRrUIsSStaCB5WEZYpP7fZZpvgHsWBGCJavEYlflS0HIc4jxUtzuwslvrGnrCgKKakAJWePRsPQhAuuugimazJouZ+SQLRovaJOB0WJO8XConXccwQLRIX/GQmFoW3cRXd2tdkX6MSLypajmMXIAuFRb3XXntJMD4b3AdrDJFr1qyZXKGZn+wnVT9//ny5+jDFlUkTLQSAok0EqxChCmOFHpGiJ5DYH5ZW3CC0SvyoaDkOWTRiMqTZL7zwwpyLj2ZeijJpNwnfF5eQRUZFfRLhteHa2qwe8S3EuhAXjMdglfIcRx11VOwXfuX5yUJq9rA0lEy0iI2EsycsFm1tiB8C0hSUXnvttdJ2kgsEi7ou0vphi4XeRarLM2dVJQVEC5GyMSyyf3yfChmpjMhjSfbt21fcwrghTohgff7558EeJU5KNuXh/PPPl0sm4W4AZjj/iplHmSBo999/f15NpmRmjjvuOPPhhx9K5bJ9DF9CqpttJTPp6+eff17OqPxfFiiZIqYcIKYEX7FSLPydBUEAe7PNNjMdO3aURZx0WBwfffSRWEi5YjK4RTQKc6xpBrYCwPF57LHHZDoBc6FwGZMGnxXtSJdeeqn0CnLtQH7nvdA0HgWSFQ899JC5+OKLJbAfN3we3bt3N+edd578j4aGz5P1cfvtt0tfJu5vqvDfYEno06eP5y+E4JbnjRw50rvjjjuCW/9m+vTpnr/ovCFDhniTJ0/2Jk2a5PXs2dPzF5XnWxCeLz7exIkTvX79+nm+JeDNnDlTHjdjxgzPFyivefPmcr9FixbJfot/NvbKysoQZa+8vNzzz4DBXzzvxRdflMe2aNFCnrempsZ78sknvaFDh3r+2Vf2V1RUeL74eYsXLw4e5Ta+eyXH9fLLLw/2LGXOnDly/Kurq70lS5YEe5OF78p5bdu2Xfad8i1D+Xzmzp0rt6PAcZg3b15wK37mz5/vtW/fXr6zDQ3fcdZR69atPf9E7I0aNSr4S3pIREyL9DpziDgz7bfffjLfGysH64c09J577ik1NDfddJNcO87GMei+32KLLcQ6Yl53ZhUzwWX2Y1EQwwnX4DDCBYuKx3LmxsrAMmRg21NPPSUD23xhk7Enzz77bPAot/niiy/kuoEE68PQ7sOxIy4WdhmThP9dlY2MH5D1tJnPqGBxxx3HCsMxLOb1FQOeB99jxu5YSzptJEK0EA/cyFytE2SOGBViTXruzz6+HPyebcHxwdm/h7GPzQYxojPOOMOcc845MrqEGeCuxyfIvhFnxIUM99XhMvoWppwcwtMOkgb1aHyWhVTANyUoMObkw8m8ru+36yRCtDjA4cbV+th2220jL65sYsa++qwKFsiRRx4pFhlBasbougzi9Morr4jgh8fXIMpUgzNPyloxSYTYHSeTUpQmpA1r6aWVRLyzXAISJsp9i2WjjTaShmO+AFyMgOxVHFC8SbqdLFOuLY7KdJ6HqaZkDnEfZs6cKa4WgoUY4y6RiaMqnv1RQAwzX3NdG++7UKjRQlSxJJTcNNQaaQxSIccsHDI2WERkBcMb40uiLkQLRZpYdbiSZDjjqrshs3nZZZdJBXqujSxZsZBxJVvIxRTGjh0rmS2+1LjlVMAjYsQLsXijftmJ+2V73dk2xhwXCtkwspr1XV1aaRqkQrSwRhidy3XlCCrbjdtc8KFQsLAI3vOT/xGH1QMsPMSQYHCuLekxHFy2bK872xYeUBgVRIuTR5rdHiU/SlanRW8bMaHDDjtMbt95551i8RDgzgWuBPUtd999t7gvPXv2DP7yb8gi0oqCMFGvw+9h+H9cueX666+XK7ZwsQILAkRGEbeIq9VkKzLEneFxWCMMhuMiClgjcZDvYc9m+eBajh49ukGvm4fo8HlmiykV817yhQwvgkV9FWAd3nDDDfLZ1hcP5bs0YsSIvGoA84HXwIx5troElDrAsrIyyUCTyYsKGV76Q/mcc0HQnSsUhSHpMnLkSLFuqdXKVhvpMqk5bbEgsm3FwBeduA/ihWhRtEqx6tNPP20GDx5s7r33XvP+++/LfWmDYXFwwU4eUx9kwiiW5Plzbbi+mfBYYjwNubGQslmaHJtsrzvbVkxMi5NLIWNjOFZ8HtneUyEbr4PYZonO9QKfOdlqTsa5toY8cSWF1FhaiEU2S+vqq68u2NJCkE477TSpvB8+fLj8jhAye533xdVtqC1jMTHmBdHiDMtFQ+tLN1ORzf/Mx92kFKSu958EqGEbM2ZMcKt+6GTgmBcCTdxUdvM5Qr6WVmNQrKVVLGppNVGwCsi4cTFUCl4RDmu5IVLUO2F98TviyJkRkea+uepjiO0QBOfKLbm2pKf4yehle93ZtnCpRVToNYxybUMlxWBplYIobTyZLFy40Ovbt6/nL37Pt0iCvf/Ft8i8zp07e61atfJ8l+0/LSjcHjhwoLQD3XrrrcHepfDYTp06SbvDtGnTgr2e57tu0jJSVVUlbT7dunXzZs+eHfx1Kdxu166dtP2A7zZ4Dz/8sOe7InJbKQzfYl7WopWJf3LwfGs9uOVJe5VvuRXUxlNqFixY4HXs2HHZ96Oh8U+43rBhwzz/5OhVVlYGe9ND4iwtShRwx6gpwtqhPorf6cy3EBOiJWXKlCniGjK1gKv6vvfee8uaoJkNRWkBz4UbRgElVhP7sYqISxHr4HmpCKdhmJ+4Oox4wdXDrCZuhWsShufABLezqSglwCWMa4hcUwQ3nZACrnMmxHj4LpSiuTltcKxYB2z8zvefTghiimkhcaKFIDGxgfjRXXfdJXEqYleIhMUXW/kSU7VOdvCWW26RPkQ+JHs/nofHEXciNkY8hNs8jvtRg8U4F668zAU7GXFCLA3XjusE8hj+TgV+ZkAf0SJzxH2pMiceRoGmUhh8nkxs4CREvV34swZODHwGZDCV3PAdZ90QzyLLyUmbY5waMLdKQTHuYdIZPny416FDB2/cuHEybQA3VCkcJmz4guT5JwKZ3MB0jjC1tbVes2bNPF+8gj3qHjZlNBBfALiXWGv+8RPXsdjSijihFYczLI3lVMEz6O62226TkgXArR40aJDUPeGO8bfGdB2wbidMmCBzvmjaxk0MD48ELu/FMQ4X2nLs2aLABVTJPvbu3VuODZNFyLLZ/0fZyoABA+TYcNyw9PPJ8GZiX1fU16fkh4pWRHBdqNehLxGXtJgq71JAlg4xQogohuV1Unxor+9HJT7uLPE+mqQRt8Yc+ocrw8hjRgNRDoGochm0MMQt7bQOC+48bnoUwWWy61lnnSWPmzRpkgwPRJxsPyNhAq7ITfU943uIafJ/o0JclXq+plhD1RCUTLSYmMiXwMK0BBa56xAXY/FwRqbkIYkQr6M8AEHlyjzhC11gIdLiRH2Z78I3epsQ/x/B4rUyNw1LK3Ox0/eZWVhKAgXxyadqPAwCzQw1Skk4NmEr2SZs+GyZR1XXBUJygZAiWiSVlPgpmWj16tVLWgwsnMHYXIfgO209BDrrauNobHBLWDBkMxGF8MJkUfIesL6SNlaZkdFYXriD4WA8IpYprliOuOZRa7d4XsSO+rLM5muyx1wMlu9uMZlgRJFZ+/nM7FeiU7JVx4IOLxZuJ3WRR4Gm3UKmITQknOlZmIhSeEYWsbja2loRrMyhiEnANpJT4hIWLQpLM7OzZJh5D1E/Bywz2nA4Lla0EXmufUhpAFfmLvbY8D23r0+JH/dVRPkPiBZxIVwqW4WOW2uH/WFNJBFcROaXIayUrFhwBeOq0SLwj2hxXKxocZv6MEZ66+ib5KOilUIIUhNTQQRsLMgW2SJaSbV4bQzOFhZbEGHanuKA44Jw4W5aF5BaO5rh27RpI7fjAAswDZ5FEtGjmkJwp3CDrGgRyK6pqZGAd2ZAO0kgIjQ/I1Jk8IDEAWIbTuoAgoBbF7WsgPIGrE4sLTKDZCax7OhoKCRTmA2sRDbtkCgNKlopBHeHhc/C5Gd1dbV0GDR2pjAfCLATyGaAI9CihWiFL8YBCALWDKIWBWJ9PB/HguPEXDJqthD4uOCEQUwuzudU/o+KVgphYeJeEZ9hBDUuF+1ImZCVI/icpCJIykioLeNCu4CwUPeU6boRSEe0opY8YHXyOKwqxupQmpM52JHjQdKClqJCIAbH8Q8nQZT4UNFKIbbOifgNlghXZg6DFYD1RWr/nnvuSZRoISBYW4gWr4uEAtZi5gUtcHOxtnCFo0DxKq4lzfLEsbguZhisMJrky8vLzfjx44O90aD4mNenF+EoDSpaKcSKFguQ2rjMjBiLtkePHlIRjiAkSbRw2yhvoEkagSEGRXwoM6iNpUSNFgIRLo+oD94nxasIOYWjHBtKE8LwvDTME/i3E0OiwP9gICSP1/lfpUFFK2UgVCx0XCxqjmjryQZWCtZA1DqnhgBXEJFiOinWYrbXiLhQwEm/YLg8oj44Nlhudq46llY2KIUoNGHBSQDR4oSQKbRKPOhRTRksTLYrrrhCMmL1iVISBQu6du0qFhD9kQTis7XTULhJgzVZRoQiH7gfVhajvHELS/H+EUXiZtnGdyvxoKKVMljMZAppmqZdx0Ws28Z1Kwm0Zyv4RHBo4yFQTzV7PnA8ECxieaWoVsc1JHiPhUXyQykNKlopA6uEwLvLLSQ0MxMPwmJhqyugzVBA+vu4qEk+pQ+IH03ZmXGsuLBdB0mc/pEmVLSURIK1RTwLy8WO1ckEgWYaAy04jNtubIivYfXlc3ETpXBUtJREQskBCQVmndc3ZpnJEBUVFXJxUzKDjQVu7M033yy9k1h/SY0XpgEVrSYMpQL5lgs0NFxXkngVllZ9V/XGomE2GBm/ysrKgsoUMiE2xZZvVpL7MS2WqbEMFUxyq1QaUNFqosyaNWvZhT5wr8INykmAFiRb58S4mvqg/IFsKe7Z2LFjJXtaKIg4vYgID6JJMqA+8aL5uqqqyrz66qsiXFpQWnpKdoVpRSkWRh7Tg8ik1e7duwd7s2PFhl5CRI6prPQwlhJKKBAsrEHGVmvGsGFQS0tJLFTtk+nLJ9tHmQFZOy5F1rJlS2lPogezVBDD4iIZWHn9+/fXKaUNiFpaSmKZOnWqKSsrE0urS5cuwV6lqaOWlpJY6EOkDUnnUilh1NJSEgstPCQMuJKTjnlRLCpaiqI4hbqHiqI4hYqWoihOoaKlKIpTqGgpiuIUKlqKojiFipaiKE6hoqUoilOoaCmK4hQqWoqiOIWKlqIoTqGipSiKU6hoKYriFCpaiqI4hYqWoihOoaKlKIpTqGgpiuIUKlqKojiFipaiKE6hoqUoilOoaCmK4hQqWoqiOIQx/wNaCTM2+OFxNwAAAABJRU5ErkJggg==)"
      ],
      "metadata": {
        "id": "WuerSIF75ecq"
      }
    },
    {
      "cell_type": "code",
      "source": [
        "#frequencias_multiplos_tensao_array = np.array(frequencias_multiplos_tensao)\n",
        "modulos_multiplos_tensao_array = np.array(modulos_multiplos_tensao)\n",
        "\n",
        "soma_v = 0\n",
        "for i in modulos_multiplos_tensao_array:\n",
        "    soma_v = soma_v + (i / modulos_multiplos_tensao_array[0])**2\n",
        "\n",
        "\n",
        "soma_v = soma_v - 1\n",
        "THD_v = np.sqrt(soma_v)\n",
        "\n",
        "print(f\"O valor da Distorção Harmônica da tensão (THDv) é: {THD_v * 100:.10f} %\")"
      ],
      "metadata": {
        "colab": {
          "base_uri": "https://localhost:8080/"
        },
        "id": "a7_a9mgq5RiS",
        "outputId": "16d7088f-e34e-485f-e282-99117f6f923d"
      },
      "execution_count": 152,
      "outputs": [
        {
          "output_type": "stream",
          "name": "stdout",
          "text": [
            "O valor da Distorção Harmônica da tensão (THDv) é: 2.1144465932 %\n"
          ]
        }
      ]
    },
    {
      "cell_type": "markdown",
      "source": [
        "### Correte de Fuga do PR-A"
      ],
      "metadata": {
        "id": "Uf8wLZ0M6DEF"
      }
    },
    {
      "cell_type": "code",
      "source": [
        "#frequencias_multiplos_Corrente_A_array = np.array(frequencias_multiplos_Corrente_A)\n",
        "modulos_multiplos_Corrente_A_array = np.array(modulos_multiplos_Corrente_A)\n",
        "\n",
        "soma_Corrente_A = 0\n",
        "for i in modulos_multiplos_Corrente_A_array:\n",
        "    soma_Corrente_A = soma_Corrente_A + (i / modulos_multiplos_Corrente_A_array[0])**2\n",
        "\n",
        "soma_Corrente_A = soma_Corrente_A - 1\n",
        "THD_Corrente_A = np.sqrt(soma_Corrente_A)\n",
        "\n",
        "print(f\"O valor da Distorção Harmônica da corrente A (THD_Corrente_A) é: {THD_Corrente_A * 100:.10f} %\")"
      ],
      "metadata": {
        "colab": {
          "base_uri": "https://localhost:8080/"
        },
        "id": "gr7CxcHl6MyR",
        "outputId": "3b3ab882-fed7-4387-9432-7f503b173b1b"
      },
      "execution_count": 153,
      "outputs": [
        {
          "output_type": "stream",
          "name": "stdout",
          "text": [
            "O valor da Distorção Harmônica da corrente A (THD_Corrente_A) é: 11.9155607548 %\n"
          ]
        }
      ]
    },
    {
      "cell_type": "markdown",
      "source": [
        "### Corrente de Fuga do PR-B"
      ],
      "metadata": {
        "id": "ZaKijxAA6U-K"
      }
    },
    {
      "cell_type": "code",
      "source": [
        "#frequencias_multiplos_Corrente_B_array = np.array(frequencias_multiplos_Corrente_B)\n",
        "modulos_multiplos_Corrente_B_array = np.array(modulos_multiplos_Corrente_B)\n",
        "\n",
        "soma_Corrente_B = 0\n",
        "for i in modulos_multiplos_Corrente_B_array:\n",
        "    soma_Corrente_B = soma_Corrente_B + (i / modulos_multiplos_Corrente_B_array[0])**2\n",
        "\n",
        "soma_Corrente_B = soma_Corrente_B - 1\n",
        "THD_Corrente_B = np.sqrt(soma_Corrente_B)\n",
        "\n",
        "print(f\"O valor da Distorção Harmônica da corrente B (THD_Corrente_B) é: {THD_Corrente_B * 100:.10f} %\")"
      ],
      "metadata": {
        "colab": {
          "base_uri": "https://localhost:8080/"
        },
        "id": "qvlmoANJ6Y8L",
        "outputId": "200261f9-7d17-4616-972d-7c7bb31e10ae"
      },
      "execution_count": 154,
      "outputs": [
        {
          "output_type": "stream",
          "name": "stdout",
          "text": [
            "O valor da Distorção Harmônica da corrente B (THD_Corrente_B) é: 19.5135510641 %\n"
          ]
        }
      ]
    },
    {
      "cell_type": "markdown",
      "source": [
        "### Corrente de Fuga do PR-C"
      ],
      "metadata": {
        "id": "Z-nP6MFY88MD"
      }
    },
    {
      "cell_type": "code",
      "source": [
        "#frequencias_multiplos_Corrente_C_array = np.array(frequencias_multiplos_Corrente_C)\n",
        "modulos_multiplos_Corrente_C_array = np.array(modulos_multiplos_Corrente_C)\n",
        "\n",
        "soma_Corrente_C = 0\n",
        "for i in modulos_multiplos_Corrente_C_array:\n",
        "    soma_Corrente_C = soma_Corrente_C + (i / modulos_multiplos_Corrente_C_array[0])**2\n",
        "\n",
        "soma_Corrente_C = soma_Corrente_C - 1\n",
        "THD_Corrente_C = np.sqrt(soma_Corrente_C)\n",
        "\n",
        "print(f\"O valor da Distorção Harmônica da corrente C (THD_Corrente_C) é: {THD_Corrente_C * 100:.10f} %\")"
      ],
      "metadata": {
        "colab": {
          "base_uri": "https://localhost:8080/"
        },
        "id": "h08xImAq9AyT",
        "outputId": "70adf8ce-6783-46c3-e791-ff6441db924c"
      },
      "execution_count": 155,
      "outputs": [
        {
          "output_type": "stream",
          "name": "stdout",
          "text": [
            "O valor da Distorção Harmônica da corrente C (THD_Corrente_C) é: 11.0585371435 %\n"
          ]
        }
      ]
    },
    {
      "cell_type": "markdown",
      "source": [
        "### Corrente de Fuga do PR-D"
      ],
      "metadata": {
        "id": "vLcWDUA-9E8z"
      }
    },
    {
      "cell_type": "code",
      "source": [
        "# Convertendo a lista de múltiplos para um array numpy\n",
        "modulos_multiplos_Corrente_D_array = np.array(modulos_multiplos_Corrente_D)\n",
        "\n",
        "soma_Corrente_D = 0\n",
        "for i in modulos_multiplos_Corrente_D_array:\n",
        "    soma_Corrente_D = soma_Corrente_D + (i / modulos_multiplos_Corrente_D_array[0])**2\n",
        "\n",
        "soma_Corrente_D = soma_Corrente_D - 1\n",
        "THD_Corrente_D = np.sqrt(soma_Corrente_D)\n",
        "\n",
        "print(f\"O valor da Distorção Harmônica da corrente D (THD_Corrente_D) é: {THD_Corrente_D * 100:.10f} %\")"
      ],
      "metadata": {
        "colab": {
          "base_uri": "https://localhost:8080/"
        },
        "id": "KESsXDxd9KFj",
        "outputId": "1674bd9c-64b3-45ea-bb06-1edd5f3314f4"
      },
      "execution_count": 156,
      "outputs": [
        {
          "output_type": "stream",
          "name": "stdout",
          "text": [
            "O valor da Distorção Harmônica da corrente D (THD_Corrente_D) é: 10.7562231099 %\n"
          ]
        }
      ]
    },
    {
      "cell_type": "markdown",
      "source": [
        "### Corrente de Fuga PR-E"
      ],
      "metadata": {
        "id": "kJgreR-K9xA9"
      }
    },
    {
      "cell_type": "code",
      "source": [
        "# Convertendo a lista de múltiplos para um array numpy\n",
        "modulos_multiplos_Corrente_E_array = np.array(modulos_multiplos_Corrente_E)\n",
        "\n",
        "soma_Corrente_E = 0\n",
        "for i in modulos_multiplos_Corrente_E_array:\n",
        "    soma_Corrente_E = soma_Corrente_E + (i / modulos_multiplos_Corrente_E_array[0])**2\n",
        "\n",
        "soma_Corrente_E = soma_Corrente_E - 1\n",
        "THD_Corrente_E = np.sqrt(soma_Corrente_E)\n",
        "\n",
        "print(f\"O valor da Distorção Harmônica da corrente E (THD_Corrente_E) é: {THD_Corrente_E * 100:.10f} %\")\n"
      ],
      "metadata": {
        "colab": {
          "base_uri": "https://localhost:8080/"
        },
        "id": "cAwFGzUm92fk",
        "outputId": "9897f52e-43fb-4f1f-e3e7-e42c96f208ee"
      },
      "execution_count": 157,
      "outputs": [
        {
          "output_type": "stream",
          "name": "stdout",
          "text": [
            "O valor da Distorção Harmônica da corrente E (THD_Corrente_E) é: 21.8114361110 %\n"
          ]
        }
      ]
    },
    {
      "cell_type": "markdown",
      "source": [
        "# Potencia Ativa Não Fundamental"
      ],
      "metadata": {
        "id": "EDxel8vK-SNE"
      }
    },
    {
      "cell_type": "markdown",
      "source": [
        "![image.png](data:image/png;base64,iVBORw0KGgoAAAANSUhEUgAAATwAAABMCAYAAADwUAtzAAAAAXNSR0IArs4c6QAAAARnQU1BAACxjwv8YQUAAAAJcEhZcwAADsMAAA7DAcdvqGQAABggSURBVHhe7d0JuHXV/MDx1WBMQqZCITQQkSSReYrSQJEKTTzR/JDZX8qUOSlDSUoqoUKlSSSpNJIhpaJIyDyz/+uz2vu139MZ7z33vcP5fZ9nP/eeca+91m/9xrXXWarKpCAIgglg6fpvEATBgicUXhAEE0MovCAIJoZQeEEQTAyh8IIgmBhC4QVBMDGEwguCYGIIhRcEwcQQCi8IgokhFF4QBBNDKLwgCCaGUHhBEEwMofCCIJgYQuEFQTAxhMILgmBiCIUXBMHEEAovCIKJIRReEAQTQ2zxPg/55z//mU477bR0+eWXp5kYvic96UnpyU9+cv0oCBYOofDmIX//+9/Tfvvtlz7wgQ+kf/zjH/WzKS277LJpmWWWqR8NDxH417/+tUh57r777unDH/5w+T8IFhKh8OYpN9xwQ9pjjz3Sl7/85fSf//ynPPewhz0sbbfddumud71reTwMhv/Pf/5z+vGPf5y+/e1vp2uvvTa95CUvSUcddVT9jiBYOITCm8dcffXV6ZWvfGU666yziuJabrnl0tve9rb0mte8Jt3pTneq3zUcPMVTTz01vfWtb033u9/90te+9rX6lSBYOETRYh6z2mqrpQMPPDA94hGPKI//8pe/pA996EPppJNOWuT1Dcsd7nCH9NznPjdtu+22JUfoCIKFRii8ec4jH/nI9OY3vznd//73L49vvPHG9M53vjNdeOGF5fEo3P72ty/FCsrvb3/7W/1sEMwtGHY55wY57XYuux8jhbSs/qWXXpr+9Kc/LVYdlCgXTj3wgQ9M97rXvdJSSy1VvzK7yHP97Gc/Kx2CpZdeOq244oppjTXWKJP65ptvTt///veLN6TNXqNAvK8Xt9xyS7rqqqvSH//4x/LYe1dYYYW09tprF4UxGxCAgw8+OL397W9Pf/3rX8u1POUpT0kf//jH00Mf+tD6XcPx61//Or3//e9P++67b7rHPe5RP5tKH8nv/fznP0///ve/y3O3u93t0iqrrJIe9KAHldeF2L/4xS/Sf//73yITzi087icPBPeHP/xh+u1vf7toHO585zun1VdffbHzz2UYh+9973vpJz/5SSkckYWHP/zhsyYP/fjd735XZL5dpNLn2n23u90tPeQhDylzeaYw5+SLmzmJ5vx3v/vd04Mf/OB0l7vcpX6lO4ccckh6whOekB71qEeVx9Iv2jzMyoJl/i9T/z8QHaTBn/zkJ9NHPvKR8r/GmSTCqE9/+tNFkRB0FzDbGFRtlJc69thjy+R7zGMeUxSUCWnifulLX0rve9/7Soett956pdP7TVCT0vVSCL7TOdZff/1073vfu6+inElMLGEtxcezo3Aopp/+9Kdpo402Ktc7LHe84x3TWmutVZR/5/UweN/85jfTG97whnTeeeeV91FMjYD+/ve/T/vvv3867rjjiuCa9IOEFz73iU98ooTjlN/jH//4okjnosLoxPgzLJ/73OfSOuusUwpArkU/rrnmmn1laTYgv+TiXe96VzrmmGPKfDWvr7nmmnTEEUcU5fGABzwgrbzyyjPSdudnFMlQU3BjOJ1fe77yla+U4tt97nOf+hO3hf7hXEnpQO6ZbHJWBpIvdiTygFZ77bVXtfzyy1ennXZalRtcjj/84Q/VM57xjGrVVVctz+dJV39idsnWt9pkk02qPAGrH/3oR/Wz/yMr7mqfffapsudWPzOYPEGrRz/60VVWoNUpp5xSPzv7ZKtZbb311lUWVKa7ykq92nnnnUt7x0X2ZMrYZ2taZcGtn70VffjMZz6zOuyww6psTOpnB2OM9thjj9LeAw44YM7IzjCcfPLJVVbOVVYW5Zpdy3777VdlT6m64oor6nfNLbIxrHIEUGXFUt10001l/mr75ZdfXq200krltawU63ePH7oiG4cqG+nq4osvXnT+73znO1U2EqVd1113Xf3u20Kmv/71r9ePbp3Dn/3sZ+tH/RnZJeFFCOlYAN4SL8BhKcQWW2yRfvnLX5blDXMl6Z2vsYTgPDcuexvhbu7YUtXsfK0fLJTPsTLC43HBc5Qy4DVMBdaaw86158Gynscff3yxiELdceB7jK1ws+298ZZVi5/1rGel7bfffqT1gHkCFAvPy85Gc855Rb0wXqIH3ojowDXz7Czc1vfGYi7mQrVbBPDYxz52UWSi7TzybMjTlVdeWdITM4W5Yw7x5ERdzflFC6JD+uVb3/pW/e7xMrLC+9WvfpWyp1SUXWeOhTIEJTNXkMwUMlF47TBbLiNbhfSiF70oZa+0fnY4LrroovKdcjX9XO9RyVYr7bjjjovyg1OBwLzxjW8swgTtlH4QPoxjXPQbhWzs2yGnCUI2KLtR0xkmH4VH4B3TQUh5/fXXl+vudb3k1HvkDYX/3aDYtYsydr2NbLf5xje+kX7wgx+UHOZ973vf+tlUwnEOwemnn15en2vI4clFy4O1YbQYs5mevxwi/SkN03Y0nN+BXuMyXUZWeG5nIig6q53j4UWJv00EVkJcPhfQLkIrJ9VMRAKsrawyKzeKR8FiZ9e7CMUTn/jEkde79cMgT9W7a2ApFSysx2s8sCZnwgObLrwD195WeIwKiyyXqWg1Cq5ZEltkwDscZdF0G99z5JFHpr322iu95z3vSS94wQvKkh0Tu8EkO/zww4tH7y4Vi7Rf97rXFXluI0+52267lc97z2abbZZOOeWU2yiCHI4VT47RU2hpcA3kjfKdiwrPWPGmm6R/g/zpZZddVhR4U/UfNwzJ2WefXaKRdddddzGjybOTX2QszM2ZYCSFZ8BZNZOc++sxQTOwEs4XXHBB2nLLLdPTnva0xZThVDCxzjzzzOL1DDoMVC8oPIJuglJ42ixsZEmET6OEXrjpppuKhbznPe85Y4MyXRibrbfeOh1wwAFlrFwzj+bVr351EejOiTsKxgUmtL7zXRSpUE7SftRwlEdhPDDVcNZYKpZ88YtfLGGkirU1hW6/E847h6rgQQcdVO5BJqsf/OAH0z777FM830033bQs54F+UpDiqfKMFeK0iWfb7jfnpEy9ZvI6B2PoMCeaYsBvfvOb+hOjQ5mKpniK3eS+fVAiPOxBaLOCU6PUtNF5rGiwvEnbd9lll0URwrhxHvNHKK2o05yfwVPs0c8MzThTRW1Gij00hnfDOvD0CJEBpehoZxPs5S9/+UhVwV6w+u9973uHyoEQWJ3XDdab18R1NkG194orrih5rlG9UIPDAgl1Hve4x5XQZS5DcC0lIUiUvrbz/FSlLT8YFf2oP/UDgfWXHFBYlOmoxgOMJU9JPrTXGPZDGygEyukzn/lMyQnhqU99avHmjBVlxNM67rjj0mtf+9q0/PLLF0Ul1/biF7+4VCwpybe85S3lfZQehWbyU+y8xka5NTRhrvd89atfLX3bvO6zzcYODO5U0W4VyBNPPLEohX64pr333nux0Lobl1xySekTXilPz/V6fO6555b5cNhhh6WNN954RlZZ6A/KjmJWYf3ud79bFDonglfN+3P+TTbZpP7E+BnpqnSW8Oj5z39+yRVRRpSfYoUJxGK0hWI6CDVZV500CG3oBY+EAMrhgTXU2SbYqPgeAyZENii8mqliUhHkdr6O4rCMRrjVDpFYY0p9mCUebbTPRgCsKu9H+88///xyDfpg1LEyyRk93juFxysyadydMdVQVALb+rXnPe95IxWOGoTTllKYoKKOBuGa5SJCbF6u5Uf6mpFqog/hFE+Qxydy2WGHHYrn7jt5jIyjcWbcKObO/iKbnrM8Z5tttlmkJExcOURjTCFOFePHgZBnHoRrGtR/2svD9V7LlYwhhbzSSisVgyV/2pmXB8XLqeGFDcJctKyo1/fQIRwlKQdK1/mNkVsknZ+BGZcO6UruhKGxfCMLdpUFqZSS5wPZcpdlFNpsucynPvWpKnd8/epoZCtfZQGsVl555Sp7oPWzUyMrnWqnnXaqNttss0XHuuuuW2WhrfLkX+z57JWNtGymTZ5wZXlEVgBVnpDVdtttV2XBrV8djazsSntyuFadeeaZ1THHHFNddNFF9atT45BDDqny5CjjkhVy/ezwZKVUZWNQxiQr9vrZxfG9T3/608tyhwsvvLB+9lay0i7LSryWjUGRjawAqzzxylhkxVDlkP028p6Vf/WqV72qLKXZc889y3KUhuwFV5tvvnlZHpRD5/rZ2Ue71ltvvSobu3Ktw2Lcd9xxx7K0a9BhuVI23PUnF4fcZUVXZUXXdYnYsExnWcrQHh7Lzu2lueVqeuXoWAFhL0/Fe1VzeVO8F+4zL4HbLZzo5xX4vPI4r2QQPMte1T3uOksuJHHYYaQzlGWFvU8hQ/vkIHkLnSEaqy1U8Voe3PrZW/Ed2ivv6Pt5Bk3JvRu+Q36pjaS7cFNoxtKNizzO5VBMUsEdFPb0gufCS+J9CkvkqdpeVYM+VIk7+uijSy5IGNkNfcbjcK3d+ptX5Tt4pcI1VfFOfIdwz3uFRhLebcgPz0LbeW6dKRLX0HjOxs2hYKEo9+53v7vkJ7faaquSXuHJNrLDm2tkwLnbcuo8wl1j3yyO1f9yZxbXktVs7AYWvFxXc/eKz/dDu3xvv1UDPGmht9xz065hEB1lg1Q/mjoiAm3gfXebP+an+UMesoGqXxkvQ1cWxNqWDghdOxvbhnuqU61PMkhCCIJMWIVVBNgykEEhkByeyS+/MuhQQesFRdYIjoJKZxiqja5NslsbVTgNbpNIb+N9hE91tnNyKgZ89KMfTRtuuGERPIlv/TDbCKvkVgmUW8amkwymNIQg+ozwbrDBBl3DepOPkdP3/c4nnJW/kx6xur8TiojRcM5uIRIoXzJH6ZxxxhlF2TZQboyv8XcOyto59UWD1yhEilKIJ4xl2CgFy5aMqXaQ26aw0UApes11+kyDNArlK1RsDIIwTZqG46DN7epkL7RLCkbVuZvctw9FGAa3F65Zzkw/CdGbFM+SgswoLnJkFKcaw9FAtjgcr3/96/sWIafLUAqPULCyBEYpuV9nsXQGlfKQl2kuzPNyXzQ34RuE8xx66KEljzfoeNnLXlZ/anGckydCKJ23W96ONVap006KjEdCIHlZnZxzzjnlb2c1kmDKA0kcu24FEQNMwfv+2cK5P/axjxVlrGJJGU8HXotDnovQmtC9oBx4QcaxF7xAE0AOrJtC04eMLG+kVyGMlyRaYIDs4ec7yasJzluQM+JpyTP7q5rZVooUE2XlenhH3n/CCSeUc5MDewPKN5H99v2fEL3IrZqgCmE+Q+bkuxhGlfJ2YUvBx/e43k6D2Q3G5KUvfWlJ5HeT+/ZBMVsW1AvXSOHpA4p6mPOPE2PC+Dhvt9UN5qjIaqYLgUMpPEJBUExsCqFfZ1F2QldrqtrFBN4R5cOdFUYMgiCz7iz/oKOXAm6Sxy984QuL8m2Sym0oYfef+h7CQMh4oI1yazCBTQTX1BkSEm79Q6G6NudRcSRg3PTZgodCce+8886l8ub6poPJ6trshmwceyWXCTdvQ5/yvvQdL6jtWRkX95/COPeSCZ62vnReilsb2rgmnruqLKVDyVBCHvPahfEUl8fk4OSTTy6VT1B87kTx/a94xSuK0SMzwlebATQ0Ssq1tCGjUgQMnWvhiUrpCFv1Dy+/LXO82cb75XkPigD0L9mWsmnLe7dDH7rOXph/rsl7Rl1oPw7IAG9VZNfLUOqbmVbEA2eAKpyqIcVAM2u0jQIIRjcINqttUN261RwqkgRjKksPpgoPR0hhWQEL0g0eC4XeeBAmkPe6XhB2FT5rlAifwaJI5J6aCeyavb9dJfN9wiMhxLDwnKw+76aYR4GXITwwGeUSLZ4dxsgMA+WpstlL2UEoKSUh/cHLlQPbc889i1zoM16YLawoCDd8ix4+//nP38YbNklUmE1SO8FQ2rydTvQ1hSMvZoxMbqi08ma01USz7ERfCPEtOJZ2YcSNr3AWzkWRUVbCK7lDk1BfdvNCpS9Ug8mJSMNSIArKMpe2gnTdqsmNMeW56Zdh1s5NB32qb+WLtZ/D4n9eKMM00xhjjoK+NjZkXORGBmaF7IaPjdyB1eGHH14qW0ceeWSVhb0cOdSo1lhjjWqHHXaosqKs3z3zuJk+K6P6UXeuuuqqUrlSJWw4+uijS+VuWFR/s5Ks8sSpn6mqgw46qNpggw2mVY2aCsbg3HPPrXK4VWUvu1zfuMhKvcoTu37Um+zxVtmbqrKSKtU0mwlkD6rKCq9+x3Bk76vcyO7z2WOscshTqrq9MN762w3p2YOsn12cbAyqq6++ulSXr7322lJtbaMang1glY10eY/z+t5BqGRmj76cOxu5+tn/4Tuzcq/yxC9VX/Kx4YYblsppcCuquMZY3/RjiW4e0A8hgrBD3kaYsfnmm5eDey+EsfanW5J7puDVsLb94EYLU1n6BlZxFNea5yoJ3f4O+R7nHyY5PU6ESkKyJvQcpRo3CF6Sax2EvJtDmKUIJLzl2fTysrvB+xBJ8LjlTD3m8XWr1Dbobx6XMLZXzs+4KrqRUW3q9KZ56bw9EYr3iEiG8Y55L4oBzt1tXahwW7jLwzEf3I/dr53BzDBWhSfMlb/rzNPJXcCCxH6h0GzQ5OSaXJtw0P/9EvKdyKEQePnLBmEyZbskBTobsJJ+YHRU7lRIp9rfQrB2zm0UhKgUh7wZI2ApD0U1irHTf9IpKsE+Kx9KYVJo8w3jYmEzY2HRvjBPnzznOc+Z8ZxVsDhjVXismMEklM1AUoImACU4G8nSQVBIqnzWB1F22isnJ081LJY08GR5MnKCvDu32qn6Dlp+My7kzSxNkI+Sd5K7mioUnTVoU/khHwpOfubZz352Ufgmtj7VR+3q6CAUK7zfrV+8O3kv1zQfFYTqrOqvHCPPkZzw/P3fmbecZBiG9t9ecDDakQavmcMxDGNReATT7UqSkbyj5nYugq7IwVLzNIQkgy5mSSOkpdx0oHstFSMkrS1HGBZhl2Q+rAm0c6yEveUM0y1ADIP+V22kpCTCJcSnkzowTu4PnYqytt5RoYERMakpPIUb3i+ZGAbXY5F7s0yITAmRyU6zecF8Qts5ApbGuAbVWUaFYR22TxY6DKXoUGGLsVPo7BVhmGvt3Y15yuRtGMbyM42+woAKQzSSxlUR8j/rRthNfGFit/zGbKP9Oprl1U7rBFXYRlnG4VotTyHcrpHCG9bqTAdtd+O1eyG120YBncsnRoHH8Y53vKNsX095u45RYOTkqnh30ho2L6AEVfiHVaCuyXfof+kGbaIAeYmucUkYkXFC4ZMva8xck/6g7CxEHiYnOgmYP/L8+omhtCaS4zHuFFj8Lu08x50DlkIwKl/4whf63lrUCyLAq/Idln0odlgew8tbEko7CJYUofDmMRSU+1QtdJXfoqRGtYiGX/5PGKvYIRxlbYX0Fi0L+YNgoRAKb54iTLKwljemSDJuLPS1WDQIFhJjrdIGSwaJbveN+n3OmVB28ky8xSBYaISHNw+Rb7NwVfJ7JoZPUcBmC83tVkGwUAiFFwTBxBAhbRAEE0MovCAIJoZQeAsAhQsLWd3aN8p2VG2sdLfo021cQbBQCYW3AKCs3PdqAbK7XUZBAcR9nu6usMTFHTNBsFAJhbcAcHsSz87fQdthdWIJim2cbCvlvte4tzNYyITCWwBQdm64tvWQ+xCFpb2K716zG6/fQYDdRyw/cZN+ECx0QuEtAGxaYDt5O0bYmskGAm7aBwUnbG0OeT6/bWBvQt5coxhH2SghCOYrIeXzHArLXn7CWffB+q0CO53w+Jo7Muyk4th1113LbznYkNVPNtokVKEiCCaFUHjznGYfMTf5KzjYG8wOJ7boEq4Kc9/0pjeVw155diIW0vpBGxtS9vq91yBYiITCm+fI3wlTYcPRZh85e6/ZOcWedPbnc/ihatul+50Lj2div7EgmMuEwpvnWIZiaye/x0qB2eJJpZaXJ3/nN1gPPPDAtNtuu5UNPYW9toL3nO2fmt/yCIJJIBTePId3Z1fg5hf+5e5WXHHFshU6T8+P4NjCnqLzWxcU3/bbb18O4W6zC7E98OK26mChEwpvnnPeeeeVX8WXs7ORpx8PEtby8ISrtkV3F4YfJPdbF/42h9DWe2wRz/vz49l+08P3BMFCJHZLWWAIb3lt7d+AVYk1zLHdUzDphMILgmBiiJA2CIKJIRReEAQTQyi8IAgmhlB4QRBMDKHwgiCYGELhBUEwMYTCC4JgYgiFFwTBxBAKLwiCCSGl/wfhRXvsqfGO+AAAAABJRU5ErkJggg==)"
      ],
      "metadata": {
        "id": "vkHDa_v__0v0"
      }
    },
    {
      "cell_type": "code",
      "source": [
        "# Calculando potência para DC\n",
        "V_o = 0\n",
        "I_o = 0\n",
        "\n",
        "P_o = V_o * I_o\n",
        "P_o"
      ],
      "metadata": {
        "colab": {
          "base_uri": "https://localhost:8080/"
        },
        "id": "uHlc1PeK-V_m",
        "outputId": "6759d07e-b4f3-4bf7-8772-3ae19322df02"
      },
      "execution_count": 158,
      "outputs": [
        {
          "output_type": "execute_result",
          "data": {
            "text/plain": [
              "0"
            ]
          },
          "metadata": {},
          "execution_count": 158
        }
      ]
    },
    {
      "cell_type": "markdown",
      "source": [
        "# Somatório das Potências Harmônicas das correntes de fuga dos Para-Raios"
      ],
      "metadata": {
        "id": "EeocHat9-eZu"
      }
    },
    {
      "cell_type": "markdown",
      "source": [
        "### PR-A"
      ],
      "metadata": {
        "id": "jaZFjShT_B1b"
      }
    },
    {
      "cell_type": "code",
      "source": [
        "soma_harmonic_1 = 0\n",
        "\n",
        "for f_A, v_A, i_A, angulo_tensao_A, angulo_corrente_A  in zip(frequencias_salvas_tensao, modulos_salvos_tensao, modulos_salvos_Corrente_A, angulos_salvos_tensao, angulos_salvos_Corrente_A):\n",
        "  if (f_A > 61): # Somatório das harmônicas sem a frequência de 60 Hz (Fundamental)\n",
        "    soma_harmonic_1 = soma_harmonic_1 + v_A * i_A * np.cos(angulo_tensao_A - angulo_corrente_A)\n",
        "\n",
        "\n",
        "print('\\nPotência não fundamental PR-A: ',soma_harmonic_1)"
      ],
      "metadata": {
        "colab": {
          "base_uri": "https://localhost:8080/"
        },
        "id": "7XoQAwIX-cQE",
        "outputId": "5e516e82-46f2-44d3-bc8c-47fbee70de2f"
      },
      "execution_count": 159,
      "outputs": [
        {
          "output_type": "stream",
          "name": "stdout",
          "text": [
            "\n",
            "Potência não fundamental PR-A:  0.2955150617604343\n"
          ]
        }
      ]
    },
    {
      "cell_type": "code",
      "source": [
        "# Calculando Potência não Fundamental\n",
        "P_A = P_o + soma_harmonic_1\n",
        "P_A"
      ],
      "metadata": {
        "colab": {
          "base_uri": "https://localhost:8080/"
        },
        "id": "UBQEngAd-0Gd",
        "outputId": "c61cd0c2-5572-42bb-9095-6882532bea5b"
      },
      "execution_count": 160,
      "outputs": [
        {
          "output_type": "execute_result",
          "data": {
            "text/plain": [
              "0.2955150617604343"
            ]
          },
          "metadata": {},
          "execution_count": 160
        }
      ]
    },
    {
      "cell_type": "markdown",
      "source": [
        "### PR-B"
      ],
      "metadata": {
        "id": "Iroah90N_NRV"
      }
    },
    {
      "cell_type": "code",
      "source": [
        "soma_harmonic_2 = 0\n",
        "\n",
        "for f_B, v_B, i_B, angulo_tensao_B, angulo_corrente_B  in zip(frequencias_salvas_tensao, modulos_salvos_tensao, modulos_salvos_Corrente_B, angulos_salvos_tensao, angulos_salvos_Corrente_B):\n",
        "  if (f_B > 61): # Somatório das harmônicas sem a frequência de 60 Hz (Fundamental)\n",
        "    soma_harmonic_2 = soma_harmonic_2 + v_B * i_B * np.cos(angulo_tensao_B - angulo_corrente_B)\n",
        "\n",
        "print('\\nPotência não fundamental PR-B: ',soma_harmonic_2)"
      ],
      "metadata": {
        "colab": {
          "base_uri": "https://localhost:8080/"
        },
        "id": "AMZko98J_PVd",
        "outputId": "705c3723-a4d7-4433-f860-1a7f2edc91f7"
      },
      "execution_count": 161,
      "outputs": [
        {
          "output_type": "stream",
          "name": "stdout",
          "text": [
            "\n",
            "Potência não fundamental PR-B:  0.46347218457715006\n"
          ]
        }
      ]
    },
    {
      "cell_type": "code",
      "source": [
        "# Calculando Potência não Fundamental\n",
        "P_B = P_o + soma_harmonic_2\n",
        "P_B"
      ],
      "metadata": {
        "colab": {
          "base_uri": "https://localhost:8080/"
        },
        "id": "kbu99j_NFIRe",
        "outputId": "be1accc7-b1b4-4115-b08f-530c920bff88"
      },
      "execution_count": 162,
      "outputs": [
        {
          "output_type": "execute_result",
          "data": {
            "text/plain": [
              "0.46347218457715006"
            ]
          },
          "metadata": {},
          "execution_count": 162
        }
      ]
    },
    {
      "cell_type": "markdown",
      "source": [
        "### PR-C"
      ],
      "metadata": {
        "id": "EoLoL15zFKG_"
      }
    },
    {
      "cell_type": "code",
      "source": [
        "# Somatório das harmônicas das potências harmônicas usando a corrente de fuga do canal H4 - Para-Raio C\n",
        "soma_harmonic_3 = 0\n",
        "\n",
        "for f_C, v_C, i_C, angulo_tensao_C, angulo_corrente_C  in zip(frequencias_salvas_tensao, modulos_salvos_tensao, modulos_salvos_Corrente_C, angulos_salvos_tensao, angulos_salvos_Corrente_C):\n",
        "  if (f_C > 61): # Somatório das harmônicas sem a frequência de 60 Hz (Fundamental)\n",
        "    soma_harmonic_3 = soma_harmonic_3 + v_C * i_C * np.cos(angulo_tensao_C - angulo_corrente_C)\n",
        "\n",
        "print('\\nPotência não fundamental PR-C: ',soma_harmonic_3)"
      ],
      "metadata": {
        "colab": {
          "base_uri": "https://localhost:8080/"
        },
        "id": "uyZIAvXwFMYI",
        "outputId": "558f599e-0bd9-4c5f-f756-bdcca278e540"
      },
      "execution_count": 163,
      "outputs": [
        {
          "output_type": "stream",
          "name": "stdout",
          "text": [
            "\n",
            "Potência não fundamental PR-C:  0.40689009582426433\n"
          ]
        }
      ]
    },
    {
      "cell_type": "code",
      "source": [
        "print(angulo_tensao_C)"
      ],
      "metadata": {
        "colab": {
          "base_uri": "https://localhost:8080/"
        },
        "id": "gaKIfemLGh2h",
        "outputId": "dfd9893f-4c78-447e-8e5a-dc6a2c46f0ee"
      },
      "execution_count": 164,
      "outputs": [
        {
          "output_type": "stream",
          "name": "stdout",
          "text": [
            "72.72903375473346\n"
          ]
        }
      ]
    },
    {
      "cell_type": "code",
      "source": [
        "# Calculando Potência não Fundamental\n",
        "P_C = P_o + soma_harmonic_3\n",
        "P_C"
      ],
      "metadata": {
        "colab": {
          "base_uri": "https://localhost:8080/"
        },
        "id": "Gjc3yAtiFZad",
        "outputId": "78fe6306-e4da-4f62-cf42-5cfc721e26bc"
      },
      "execution_count": 165,
      "outputs": [
        {
          "output_type": "execute_result",
          "data": {
            "text/plain": [
              "0.40689009582426433"
            ]
          },
          "metadata": {},
          "execution_count": 165
        }
      ]
    },
    {
      "cell_type": "markdown",
      "source": [
        "### PR-D"
      ],
      "metadata": {
        "id": "66iVbPEXF0g5"
      }
    },
    {
      "cell_type": "code",
      "source": [
        "# Somatório das harmônicas das potências harmônicas usando a corrente de fuga do canal H4 - Para-Raio D\n",
        "soma_harmonic_4 = 0\n",
        "\n",
        "for f_D, v_D, i_D, angulo_tensao_D, angulo_corrente_D in zip(frequencias_salvas_tensao, modulos_salvos_tensao, modulos_salvos_Corrente_D, angulos_salvos_tensao, angulos_salvos_Corrente_D):\n",
        "  if (f_D > 61): # Somatório das harmônicas sem a frequência de 60 Hz (Fundamental)\n",
        "    soma_harmonic_4 = soma_harmonic_4 + v_D * i_D * np.cos(angulo_tensao_D - angulo_corrente_D)\n",
        "\n",
        "print('\\nPotência não fundamental PR-D: ', soma_harmonic_4)\n"
      ],
      "metadata": {
        "colab": {
          "base_uri": "https://localhost:8080/"
        },
        "id": "RkhH9pmUF21l",
        "outputId": "6712b17c-b0de-4e00-f794-86739a36ead5"
      },
      "execution_count": 166,
      "outputs": [
        {
          "output_type": "stream",
          "name": "stdout",
          "text": [
            "\n",
            "Potência não fundamental PR-D:  0.09567179057433134\n"
          ]
        }
      ]
    },
    {
      "cell_type": "code",
      "source": [
        "# Calculando Potência não Fundamental\n",
        "P_D = P_o + soma_harmonic_4\n",
        "P_D"
      ],
      "metadata": {
        "colab": {
          "base_uri": "https://localhost:8080/"
        },
        "id": "A34K9p69H4G1",
        "outputId": "a75d7438-3c1e-45f7-ae71-4e0df0c724b0"
      },
      "execution_count": 167,
      "outputs": [
        {
          "output_type": "execute_result",
          "data": {
            "text/plain": [
              "0.09567179057433134"
            ]
          },
          "metadata": {},
          "execution_count": 167
        }
      ]
    },
    {
      "cell_type": "markdown",
      "source": [
        "### PR-E"
      ],
      "metadata": {
        "id": "cmGekme2HrXX"
      }
    },
    {
      "cell_type": "code",
      "source": [
        "# Somatório das harmônicas das potências harmônicas usando a corrente de fuga do canal H4 - Para-Raio E\n",
        "soma_harmonic_5 = 0\n",
        "\n",
        "for f_E, v_E, i_E, angulo_tensao_E, angulo_corrente_E in zip(frequencias_salvas_tensao, modulos_salvos_tensao, modulos_salvos_Corrente_E, angulos_salvos_tensao, angulos_salvos_Corrente_E):\n",
        "  if (f_E > 61): # Somatório das harmônicas sem a frequência de 60 Hz (Fundamental)\n",
        "    soma_harmonic_5 = soma_harmonic_5 + v_E * i_E * np.cos(angulo_tensao_E - angulo_corrente_E)\n",
        "\n",
        "print('\\nPotência não fundamental PR-E: ', soma_harmonic_5)\n"
      ],
      "metadata": {
        "colab": {
          "base_uri": "https://localhost:8080/"
        },
        "id": "gdI4o5FyHtY4",
        "outputId": "a05afbe4-7b70-4851-ba5c-294246f27872"
      },
      "execution_count": 168,
      "outputs": [
        {
          "output_type": "stream",
          "name": "stdout",
          "text": [
            "\n",
            "Potência não fundamental PR-E:  0.5058474470466089\n"
          ]
        }
      ]
    },
    {
      "cell_type": "code",
      "source": [
        "# Calculando Potência não Fundamental\n",
        "P_E = P_o + soma_harmonic_5\n",
        "P_E"
      ],
      "metadata": {
        "colab": {
          "base_uri": "https://localhost:8080/"
        },
        "id": "6DcGksR_H9TG",
        "outputId": "4f10f250-a891-4633-f5e5-e3b24bcc6e47"
      },
      "execution_count": 169,
      "outputs": [
        {
          "output_type": "execute_result",
          "data": {
            "text/plain": [
              "0.5058474470466089"
            ]
          },
          "metadata": {},
          "execution_count": 169
        }
      ]
    },
    {
      "cell_type": "markdown",
      "source": [
        "# Fator de Potência Fundamental"
      ],
      "metadata": {
        "id": "DnGcWihlIEz3"
      }
    },
    {
      "cell_type": "markdown",
      "source": [
        "![image.png](data:image/png;base64,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)"
      ],
      "metadata": {
        "id": "G9aZp3JZINve"
      }
    },
    {
      "cell_type": "code",
      "source": [
        "# Calculando o fator de potencia fundamental Para-Raio A\n",
        "FP_1_A = np.cos(angulos_multiplos_tensao[0] - (angulos_multiplos_Corrente_A[0]))\n",
        "print(FP_1_A)"
      ],
      "metadata": {
        "colab": {
          "base_uri": "https://localhost:8080/"
        },
        "id": "317LX4eMISga",
        "outputId": "a9831192-d363-4d01-efa4-fbee2bff4166"
      },
      "execution_count": 170,
      "outputs": [
        {
          "output_type": "stream",
          "name": "stdout",
          "text": [
            "0.5804014227088071\n"
          ]
        }
      ]
    },
    {
      "cell_type": "code",
      "source": [
        "# Calculando o fator de potencia fundamental Para-Raio B\n",
        "FP_1_B = np.cos(angulos_multiplos_tensao[0] - (angulos_multiplos_Corrente_B[0]))\n",
        "print(FP_1_B)"
      ],
      "metadata": {
        "colab": {
          "base_uri": "https://localhost:8080/"
        },
        "id": "K_d5MpPhIUHg",
        "outputId": "448393c5-2a69-43a3-d224-72a61baf8015"
      },
      "execution_count": 171,
      "outputs": [
        {
          "output_type": "stream",
          "name": "stdout",
          "text": [
            "0.42888007099878106\n"
          ]
        }
      ]
    },
    {
      "cell_type": "code",
      "source": [
        "# Calculando o fator de potencia fundamental Para-Raio C\n",
        "FP_1_C = np.cos(angulos_multiplos_tensao[0] - (360 - angulos_multiplos_Corrente_C[0]))\n",
        "print(FP_1_C)"
      ],
      "metadata": {
        "colab": {
          "base_uri": "https://localhost:8080/"
        },
        "id": "ObxARpJYIXSI",
        "outputId": "96c6a289-1823-4be4-f88c-52442c6d8bde"
      },
      "execution_count": 172,
      "outputs": [
        {
          "output_type": "stream",
          "name": "stdout",
          "text": [
            "0.9576483516170122\n"
          ]
        }
      ]
    },
    {
      "cell_type": "code",
      "source": [
        "# Calculando o fator de potência fundamental Para-Raio D\n",
        "FP_1_D = np.cos(angulos_multiplos_tensao[0] - (360 - angulos_multiplos_Corrente_D[0]))\n",
        "print(FP_1_D)\n"
      ],
      "metadata": {
        "colab": {
          "base_uri": "https://localhost:8080/"
        },
        "id": "naSDPh8YIYyP",
        "outputId": "34ca6e0f-eceb-43ce-831f-6eb879f1f81d"
      },
      "execution_count": 173,
      "outputs": [
        {
          "output_type": "stream",
          "name": "stdout",
          "text": [
            "0.8305785106913948\n"
          ]
        }
      ]
    },
    {
      "cell_type": "code",
      "source": [
        "# Calculando o fator de potência fundamental Para-Raio E\n",
        "FP_1_E = np.cos(angulos_multiplos_tensao[0] - (angulos_multiplos_Corrente_E[0]))\n",
        "print(FP_1_E)\n"
      ],
      "metadata": {
        "colab": {
          "base_uri": "https://localhost:8080/"
        },
        "id": "Gg3ZpXl4IsWK",
        "outputId": "e140a717-cd68-4323-ca71-f38256b8ea2e"
      },
      "execution_count": 174,
      "outputs": [
        {
          "output_type": "stream",
          "name": "stdout",
          "text": [
            "0.9008392409656817\n"
          ]
        }
      ]
    },
    {
      "cell_type": "markdown",
      "source": [
        "# Potênia Ativa Fundamental"
      ],
      "metadata": {
        "id": "Q5W_cXHeI9E5"
      }
    },
    {
      "cell_type": "markdown",
      "source": [
        "![image.png](data:image/png;base64,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)"
      ],
      "metadata": {
        "id": "sZ2SmDGdJAI_"
      }
    },
    {
      "cell_type": "code",
      "source": [
        "P_1_A = modulos_multiplos_tensao[0] * modulos_multiplos_Corrente_A[0] * np.cos(angulos_multiplos_tensao[0] - (angulos_multiplos_Corrente_A[0]))\n",
        "P_1_A"
      ],
      "metadata": {
        "colab": {
          "base_uri": "https://localhost:8080/"
        },
        "id": "bj9U8wN9JFTH",
        "outputId": "c681d620-38d3-4976-9226-959f935978be"
      },
      "execution_count": 175,
      "outputs": [
        {
          "output_type": "execute_result",
          "data": {
            "text/plain": [
              "146.62443570661924"
            ]
          },
          "metadata": {},
          "execution_count": 175
        }
      ]
    },
    {
      "cell_type": "code",
      "source": [
        "P_1_B = modulos_multiplos_tensao[0] * modulos_multiplos_Corrente_B[0] * np.cos(angulos_multiplos_tensao[0] - (angulos_multiplos_Corrente_B[0]))\n",
        "P_1_B"
      ],
      "metadata": {
        "colab": {
          "base_uri": "https://localhost:8080/"
        },
        "id": "SS0Ehu5yJIWG",
        "outputId": "30add8f9-a52e-469f-9e9f-c560c8b2ebd0"
      },
      "execution_count": 176,
      "outputs": [
        {
          "output_type": "execute_result",
          "data": {
            "text/plain": [
              "179.1101393375726"
            ]
          },
          "metadata": {},
          "execution_count": 176
        }
      ]
    },
    {
      "cell_type": "code",
      "source": [
        "P_1_C = modulos_multiplos_tensao[0] * modulos_multiplos_Corrente_C[0] * np.cos(angulos_multiplos_tensao[0] - (360 - angulos_multiplos_Corrente_C[0]))\n",
        "P_1_C"
      ],
      "metadata": {
        "colab": {
          "base_uri": "https://localhost:8080/"
        },
        "id": "xXF9MefFJLAP",
        "outputId": "fe856ebc-de83-4e55-ed7e-a769d3692740"
      },
      "execution_count": 177,
      "outputs": [
        {
          "output_type": "execute_result",
          "data": {
            "text/plain": [
              "233.26875966127238"
            ]
          },
          "metadata": {},
          "execution_count": 177
        }
      ]
    },
    {
      "cell_type": "code",
      "source": [
        "P_1_D = modulos_multiplos_tensao[0] * modulos_multiplos_Corrente_D[0] * np.cos(angulos_multiplos_tensao[0] - (360 - angulos_multiplos_Corrente_D[0]))\n",
        "P_1_D\n"
      ],
      "metadata": {
        "colab": {
          "base_uri": "https://localhost:8080/"
        },
        "id": "Kikuy3XkJhqT",
        "outputId": "c67db4eb-cddc-442e-9343-240419442c7a"
      },
      "execution_count": 178,
      "outputs": [
        {
          "output_type": "execute_result",
          "data": {
            "text/plain": [
              "119.49002984329756"
            ]
          },
          "metadata": {},
          "execution_count": 178
        }
      ]
    },
    {
      "cell_type": "code",
      "source": [
        "P_1_E = modulos_multiplos_tensao[0] * modulos_multiplos_Corrente_E[0] * np.cos(angulos_multiplos_tensao[0] - (angulos_multiplos_Corrente_E[0]))\n",
        "P_1_E\n"
      ],
      "metadata": {
        "colab": {
          "base_uri": "https://localhost:8080/"
        },
        "id": "iDD9NOjNJjCX",
        "outputId": "0526905c-9a57-4a12-9bea-e533902f5e8b"
      },
      "execution_count": 179,
      "outputs": [
        {
          "output_type": "execute_result",
          "data": {
            "text/plain": [
              "559.1393921306787"
            ]
          },
          "metadata": {},
          "execution_count": 179
        }
      ]
    },
    {
      "cell_type": "markdown",
      "source": [
        "# Potência Ativa"
      ],
      "metadata": {
        "id": "EGcFxrFXJsRN"
      }
    },
    {
      "cell_type": "markdown",
      "source": [
        "![image.png](data:image/png;base64,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)"
      ],
      "metadata": {
        "id": "uOBDswuhJu8O"
      }
    },
    {
      "cell_type": "code",
      "source": [
        "P_A = P_o + soma_harmonic_1\n",
        "P_A"
      ],
      "metadata": {
        "colab": {
          "base_uri": "https://localhost:8080/"
        },
        "id": "IHKEXpJ7JyYI",
        "outputId": "7ce21fc3-8903-44e8-ddfb-7b54b002e551"
      },
      "execution_count": 180,
      "outputs": [
        {
          "output_type": "execute_result",
          "data": {
            "text/plain": [
              "0.2955150617604343"
            ]
          },
          "metadata": {},
          "execution_count": 180
        }
      ]
    },
    {
      "cell_type": "code",
      "source": [
        "P_B = P_o + soma_harmonic_2\n",
        "P_B"
      ],
      "metadata": {
        "colab": {
          "base_uri": "https://localhost:8080/"
        },
        "id": "huycLDTXKIqX",
        "outputId": "16912ef4-c4a0-4ab4-c57c-0f2df1118993"
      },
      "execution_count": 181,
      "outputs": [
        {
          "output_type": "execute_result",
          "data": {
            "text/plain": [
              "0.46347218457715006"
            ]
          },
          "metadata": {},
          "execution_count": 181
        }
      ]
    },
    {
      "cell_type": "code",
      "source": [
        "P_C = P_o + soma_harmonic_3\n",
        "P_C"
      ],
      "metadata": {
        "colab": {
          "base_uri": "https://localhost:8080/"
        },
        "id": "SRyEnLLLKMLb",
        "outputId": "26e8febe-3b70-43d7-c525-0a337655e19f"
      },
      "execution_count": 182,
      "outputs": [
        {
          "output_type": "execute_result",
          "data": {
            "text/plain": [
              "0.40689009582426433"
            ]
          },
          "metadata": {},
          "execution_count": 182
        }
      ]
    },
    {
      "cell_type": "code",
      "source": [
        "P_D = P_o + soma_harmonic_4\n",
        "P_D"
      ],
      "metadata": {
        "colab": {
          "base_uri": "https://localhost:8080/"
        },
        "id": "XMNFrbHwKN9h",
        "outputId": "2eadfbfe-9e4d-4a06-8e02-d53fc4cebf70"
      },
      "execution_count": 183,
      "outputs": [
        {
          "output_type": "execute_result",
          "data": {
            "text/plain": [
              "0.09567179057433134"
            ]
          },
          "metadata": {},
          "execution_count": 183
        }
      ]
    },
    {
      "cell_type": "code",
      "source": [
        "P_E = P_o + soma_harmonic_5\n",
        "P_E"
      ],
      "metadata": {
        "colab": {
          "base_uri": "https://localhost:8080/"
        },
        "id": "qyqYmGbvKQtP",
        "outputId": "66e7ca45-58c2-45b8-a789-fafd862844fd"
      },
      "execution_count": 184,
      "outputs": [
        {
          "output_type": "execute_result",
          "data": {
            "text/plain": [
              "0.5058474470466089"
            ]
          },
          "metadata": {},
          "execution_count": 184
        }
      ]
    },
    {
      "cell_type": "markdown",
      "source": [
        "# Fator de Potência Final"
      ],
      "metadata": {
        "id": "QVxj5O1qKe42"
      }
    },
    {
      "cell_type": "markdown",
      "source": [
        "![image.png](data:image/png;base64,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)"
      ],
      "metadata": {
        "id": "wA9mrJVdKj6v"
      }
    },
    {
      "cell_type": "code",
      "source": [
        "FP_A = ((1 + (P_A/P_1_A)) * FP_1_A) / np.sqrt(1 + np.square(THD_Corrente_A) + np.square(THD_v) + np.square(THD_Corrente_A * THD_v))\n",
        "print(f'O fator de potência Pra-Raio A é: {FP_A}')"
      ],
      "metadata": {
        "colab": {
          "base_uri": "https://localhost:8080/"
        },
        "id": "booAfcx8Kks2",
        "outputId": "d827a3df-db22-4577-b423-710b17b28838"
      },
      "execution_count": 185,
      "outputs": [
        {
          "output_type": "stream",
          "name": "stdout",
          "text": [
            "O fator de potência Pra-Raio A é: 0.5773570043725681\n"
          ]
        }
      ]
    },
    {
      "cell_type": "code",
      "source": [
        "FP_B = ((1 + (P_B/P_1_B)) * FP_1_B) / np.sqrt(1 + np.square(THD_Corrente_B) + np.square(THD_v) + np.square(THD_Corrente_B * THD_v))\n",
        "print(f'O fator de potência Pra-Raio B é: {FP_B}')"
      ],
      "metadata": {
        "colab": {
          "base_uri": "https://localhost:8080/"
        },
        "id": "nNiD57gWKqwY",
        "outputId": "69b88d47-0a73-497e-e06f-657406dd9bc9"
      },
      "execution_count": 186,
      "outputs": [
        {
          "output_type": "stream",
          "name": "stdout",
          "text": [
            "O fator de potência Pra-Raio B é: 0.42193561323733525\n"
          ]
        }
      ]
    },
    {
      "cell_type": "code",
      "source": [
        "FP_C = ((1 + (P_C/P_1_C)) * FP_1_C) / np.sqrt(1 + np.square(THD_Corrente_C) + np.square(THD_v) + np.square(THD_Corrente_C * THD_v))\n",
        "print(f'O fator de potência Pra-Raio C é: {FP_C}')"
      ],
      "metadata": {
        "colab": {
          "base_uri": "https://localhost:8080/"
        },
        "id": "67k3PSP1Ktjp",
        "outputId": "7f512edb-fe81-4a7b-e9cb-014f88541d28"
      },
      "execution_count": 187,
      "outputs": [
        {
          "output_type": "stream",
          "name": "stdout",
          "text": [
            "O fator de potência Pra-Raio C é: 0.9532931393574922\n"
          ]
        }
      ]
    },
    {
      "cell_type": "code",
      "source": [
        "FP_D = ((1 + (P_D/P_1_D)) * FP_1_D) / np.sqrt(1 + np.square(THD_Corrente_D) + np.square(THD_v) + np.square(THD_Corrente_D * THD_v))\n",
        "print(f'O fator de potência Para-Raio D é: {FP_D}')\n"
      ],
      "metadata": {
        "colab": {
          "base_uri": "https://localhost:8080/"
        },
        "id": "cjRAl9bSK-TP",
        "outputId": "349152d8-da78-4189-a225-91af3a80cd30"
      },
      "execution_count": 188,
      "outputs": [
        {
          "output_type": "stream",
          "name": "stdout",
          "text": [
            "O fator de potência Para-Raio D é: 0.8262915713624114\n"
          ]
        }
      ]
    },
    {
      "cell_type": "code",
      "source": [
        "FP_E = ((1 + (P_E/P_1_E)) * FP_1_E) / np.sqrt(1 + np.square(THD_Corrente_E) + np.square(THD_v) + np.square(THD_Corrente_E * THD_v))\n",
        "print(f'O fator de potência Para-Raio E é: {FP_E}')"
      ],
      "metadata": {
        "colab": {
          "base_uri": "https://localhost:8080/"
        },
        "id": "P33j1sbqLA6e",
        "outputId": "aaa39d4a-8603-4d12-e71c-f2b66eacd07c"
      },
      "execution_count": 189,
      "outputs": [
        {
          "output_type": "stream",
          "name": "stdout",
          "text": [
            "O fator de potência Para-Raio E é: 0.8807458958837339\n"
          ]
        }
      ]
    }
  ]
}